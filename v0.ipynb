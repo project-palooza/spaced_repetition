{
 "cells": [
  {
   "cell_type": "code",
   "execution_count": 1,
   "metadata": {},
   "outputs": [],
   "source": [
    "import numpy as np\n",
    "import pandas as pd \n",
    "import matplotlib.pyplot as plt\n",
    "\n",
    "# our module\n",
    "from preprocess import *"
   ]
  },
  {
   "cell_type": "code",
   "execution_count": 2,
   "metadata": {},
   "outputs": [],
   "source": [
    "df = sr_data_reader()"
   ]
  },
  {
   "cell_type": "markdown",
   "metadata": {
    "jp-MarkdownHeadingCollapsed": true
   },
   "source": [
    "### language features"
   ]
  },
  {
   "cell_type": "code",
   "execution_count": 3,
   "metadata": {},
   "outputs": [
    {
     "data": {
      "text/plain": [
       "p_recall                                       0.9999\n",
       "timestamp                         2013-02-28 20:16:14\n",
       "user_id                                         u:mKI\n",
       "learning_language                                  es\n",
       "ui_language                                        en\n",
       "lexeme_id            e8578c557b3989f9efbc424f9430091d\n",
       "lexeme_string          come/comer<vblex><pri><p3><sg>\n",
       "history_seen                                       15\n",
       "history_correct                                    15\n",
       "session_seen                                        1\n",
       "session_correct                                     1\n",
       "delta_days                                        0.0\n",
       "h                                                0.01\n",
       "Name: 0, dtype: object"
      ]
     },
     "execution_count": 3,
     "metadata": {},
     "output_type": "execute_result"
    }
   ],
   "source": [
    "# before we try to learn good values for theta \n",
    "# we need to construct x\n",
    "\n",
    "# x = information a students history learning a certain word\n",
    "\n",
    "df.iloc[0,:]"
   ]
  },
  {
   "cell_type": "code",
   "execution_count": 4,
   "metadata": {},
   "outputs": [],
   "source": [
    "# (df['p_recall'] == (df['session_correct'])/(df['session_seen'])).sum() == df.shape[0]\n",
    "\n",
    "# p_recall is the ratio of session_correct/session_seen\n",
    "\n",
    "# p_recall is \"y\" \"ground truth\"\n",
    "\n",
    "# predicted_p_recall is \"y_hat\" \"prediction\"\n",
    "\n",
    "# error(p_recall,predicted_p_recall) <- we want this to be as small as possible\n",
    "\n",
    "# if we can very reliably predict p_recall, what is the value of this in real-life terms?\n"
   ]
  },
  {
   "cell_type": "code",
   "execution_count": 5,
   "metadata": {},
   "outputs": [],
   "source": [
    "# get parts of speech\n",
    "\n",
    "def lexeme_df(filename):\n",
    "\n",
    "    import re\n",
    "    df_single_col = pd.read_csv(filename, delimiter='\\t', header=None, names=['line'])\n",
    "\n",
    "    def split_line(line):\n",
    "        parts = re.split(r'\\s+', line, maxsplit=2)\n",
    "        if len(parts) == 3:\n",
    "            return parts\n",
    "        return [None, None, None]\n",
    "\n",
    "    df_split = df_single_col['line'].apply(split_line)\n",
    "    df = pd.DataFrame(df_split.tolist(), columns=['lexeme', 'category', 'meaning'])\n",
    "\n",
    "    return df"
   ]
  },
  {
   "cell_type": "code",
   "execution_count": 6,
   "metadata": {},
   "outputs": [
    {
     "data": {
      "text/html": [
       "<div>\n",
       "<style scoped>\n",
       "    .dataframe tbody tr th:only-of-type {\n",
       "        vertical-align: middle;\n",
       "    }\n",
       "\n",
       "    .dataframe tbody tr th {\n",
       "        vertical-align: top;\n",
       "    }\n",
       "\n",
       "    .dataframe thead th {\n",
       "        text-align: right;\n",
       "    }\n",
       "</style>\n",
       "<table border=\"1\" class=\"dataframe\">\n",
       "  <thead>\n",
       "    <tr style=\"text-align: right;\">\n",
       "      <th></th>\n",
       "      <th>lexeme</th>\n",
       "      <th>category</th>\n",
       "      <th>meaning</th>\n",
       "    </tr>\n",
       "  </thead>\n",
       "  <tbody>\n",
       "    <tr>\n",
       "      <th>0</th>\n",
       "      <td>aa</td>\n",
       "      <td>animacy</td>\n",
       "      <td>Animate</td>\n",
       "    </tr>\n",
       "    <tr>\n",
       "      <th>1</th>\n",
       "      <td>acr</td>\n",
       "      <td>adjective</td>\n",
       "      <td>Acronym</td>\n",
       "    </tr>\n",
       "    <tr>\n",
       "      <th>2</th>\n",
       "      <td>adj</td>\n",
       "      <td>POS</td>\n",
       "      <td>Adjective</td>\n",
       "    </tr>\n",
       "    <tr>\n",
       "      <th>3</th>\n",
       "      <td>adv</td>\n",
       "      <td>POS</td>\n",
       "      <td>Adverb</td>\n",
       "    </tr>\n",
       "    <tr>\n",
       "      <th>4</th>\n",
       "      <td>al</td>\n",
       "      <td>other</td>\n",
       "      <td>Other (altre)</td>\n",
       "    </tr>\n",
       "  </tbody>\n",
       "</table>\n",
       "</div>"
      ],
      "text/plain": [
       "  lexeme   category        meaning\n",
       "0     aa    animacy        Animate\n",
       "1    acr  adjective        Acronym\n",
       "2    adj        POS      Adjective\n",
       "3    adv        POS         Adverb\n",
       "4     al      other  Other (altre)"
      ]
     },
     "execution_count": 6,
     "metadata": {},
     "output_type": "execute_result"
    }
   ],
   "source": [
    "lexemes = lexeme_df('lexeme_reference.txt')\n",
    "lexemes.head()"
   ]
  },
  {
   "cell_type": "code",
   "execution_count": 7,
   "metadata": {},
   "outputs": [
    {
     "data": {
      "text/plain": [
       "92"
      ]
     },
     "execution_count": 7,
     "metadata": {},
     "output_type": "execute_result"
    }
   ],
   "source": [
    "lexemes['lexeme'].nunique()"
   ]
  },
  {
   "cell_type": "code",
   "execution_count": 8,
   "metadata": {},
   "outputs": [],
   "source": [
    "# one-hot encoding\n",
    "# dummy variables / indicator variables\n",
    "\n",
    "# df.loc[0,\"lexeme_string\"]\n",
    "\n",
    "\"<det><def><nt><sg><nom>\"\n",
    "\n",
    "# det, df, nt, sg, nom + 87 more \n",
    "\n",
    "# word | det | def | nt | sg | nom | ...\n",
    "# das  |  1  | 1   | 1  | 1  |  1  | 0 ...\n",
    "\n",
    "\n",
    "\n",
    "# look for the first <, remove everything to the left\n",
    "# then remove <, >\n",
    "\n",
    "# \n",
    "\n",
    "def extract_right_of_lt(text):\n",
    "    import re\n",
    "    match = re.search(r'<(.*)', text)\n",
    "    return match.group(1) if match else ''\n",
    "\n",
    "\n"
   ]
  },
  {
   "cell_type": "code",
   "execution_count": 9,
   "metadata": {},
   "outputs": [
    {
     "data": {
      "text/plain": [
       "0        vblex pri p3 sg\n",
       "1                   n sg\n",
       "2        prn tn p2 mf sg\n",
       "3                 n f sg\n",
       "4                 n m sg\n",
       "              ...       \n",
       "12867               n pl\n",
       "12868             n m sg\n",
       "12869               n sg\n",
       "12870               n sg\n",
       "12871                adv\n",
       "Name: lexeme_string, Length: 12872, dtype: object"
      ]
     },
     "execution_count": 9,
     "metadata": {},
     "output_type": "execute_result"
    }
   ],
   "source": [
    "df['lexeme_string'] = df['lexeme_string'].apply(extract_right_of_lt)\n",
    "df['lexeme_string'] = df['lexeme_string'].str.replace(\"<\",\" \")\n",
    "df['lexeme_string'] = df['lexeme_string'].str.replace(\">\",\"\")\n",
    "df['lexeme_string'] = df['lexeme_string'].str.replace(\"*\",\"\")\n",
    "df['lexeme_string'] = df['lexeme_string'].str.replace(\"/\",\"\")\n",
    "df['lexeme_string']"
   ]
  },
  {
   "cell_type": "code",
   "execution_count": 10,
   "metadata": {},
   "outputs": [
    {
     "name": "stderr",
     "output_type": "stream",
     "text": [
      "/Users/arad/mambaforge/envs/sr/lib/python3.11/site-packages/sklearn/feature_extraction/text.py:525: UserWarning: The parameter 'token_pattern' will not be used since 'tokenizer' is not None'\n",
      "  warnings.warn(\n"
     ]
    }
   ],
   "source": [
    "from sklearn.feature_extraction.text import CountVectorizer\n",
    "\n",
    "vectorizer = CountVectorizer(tokenizer=lambda x: x.split(), binary=True)\n",
    "vectorized_words = vectorizer.fit_transform(df['lexeme_string'])\n",
    "vectorized_df = pd.DataFrame(vectorized_words.toarray(), columns=vectorizer.get_feature_names_out(), index=df.index)"
   ]
  },
  {
   "cell_type": "code",
   "execution_count": 11,
   "metadata": {},
   "outputs": [
    {
     "data": {
      "text/html": [
       "<div>\n",
       "<style scoped>\n",
       "    .dataframe tbody tr th:only-of-type {\n",
       "        vertical-align: middle;\n",
       "    }\n",
       "\n",
       "    .dataframe tbody tr th {\n",
       "        vertical-align: top;\n",
       "    }\n",
       "\n",
       "    .dataframe thead th {\n",
       "        text-align: right;\n",
       "    }\n",
       "</style>\n",
       "<table border=\"1\" class=\"dataframe\">\n",
       "  <thead>\n",
       "    <tr style=\"text-align: right;\">\n",
       "      <th></th>\n",
       "      <th>@adv:en_general</th>\n",
       "      <th>@adv:peut_etre</th>\n",
       "      <th>@adv:por_favor</th>\n",
       "      <th>@adv:por_supuesto</th>\n",
       "      <th>@adv:s_il_te_plait</th>\n",
       "      <th>@adv:s_il_vous_plait</th>\n",
       "      <th>@cnj:des_que</th>\n",
       "      <th>@common_phrases:a_demain</th>\n",
       "      <th>@common_phrases:a_plus</th>\n",
       "      <th>@common_phrases:a_plus_tard</th>\n",
       "      <th>...</th>\n",
       "      <th>subj</th>\n",
       "      <th>suff</th>\n",
       "      <th>sw</th>\n",
       "      <th>tn</th>\n",
       "      <th>vaux</th>\n",
       "      <th>vbdo</th>\n",
       "      <th>vbhaver</th>\n",
       "      <th>vblex</th>\n",
       "      <th>vbmod</th>\n",
       "      <th>vbser</th>\n",
       "    </tr>\n",
       "  </thead>\n",
       "  <tbody>\n",
       "    <tr>\n",
       "      <th>0</th>\n",
       "      <td>0</td>\n",
       "      <td>0</td>\n",
       "      <td>0</td>\n",
       "      <td>0</td>\n",
       "      <td>0</td>\n",
       "      <td>0</td>\n",
       "      <td>0</td>\n",
       "      <td>0</td>\n",
       "      <td>0</td>\n",
       "      <td>0</td>\n",
       "      <td>...</td>\n",
       "      <td>0</td>\n",
       "      <td>0</td>\n",
       "      <td>0</td>\n",
       "      <td>0</td>\n",
       "      <td>0</td>\n",
       "      <td>0</td>\n",
       "      <td>0</td>\n",
       "      <td>1</td>\n",
       "      <td>0</td>\n",
       "      <td>0</td>\n",
       "    </tr>\n",
       "    <tr>\n",
       "      <th>1</th>\n",
       "      <td>0</td>\n",
       "      <td>0</td>\n",
       "      <td>0</td>\n",
       "      <td>0</td>\n",
       "      <td>0</td>\n",
       "      <td>0</td>\n",
       "      <td>0</td>\n",
       "      <td>0</td>\n",
       "      <td>0</td>\n",
       "      <td>0</td>\n",
       "      <td>...</td>\n",
       "      <td>0</td>\n",
       "      <td>0</td>\n",
       "      <td>0</td>\n",
       "      <td>0</td>\n",
       "      <td>0</td>\n",
       "      <td>0</td>\n",
       "      <td>0</td>\n",
       "      <td>0</td>\n",
       "      <td>0</td>\n",
       "      <td>0</td>\n",
       "    </tr>\n",
       "    <tr>\n",
       "      <th>2</th>\n",
       "      <td>0</td>\n",
       "      <td>0</td>\n",
       "      <td>0</td>\n",
       "      <td>0</td>\n",
       "      <td>0</td>\n",
       "      <td>0</td>\n",
       "      <td>0</td>\n",
       "      <td>0</td>\n",
       "      <td>0</td>\n",
       "      <td>0</td>\n",
       "      <td>...</td>\n",
       "      <td>0</td>\n",
       "      <td>0</td>\n",
       "      <td>0</td>\n",
       "      <td>1</td>\n",
       "      <td>0</td>\n",
       "      <td>0</td>\n",
       "      <td>0</td>\n",
       "      <td>0</td>\n",
       "      <td>0</td>\n",
       "      <td>0</td>\n",
       "    </tr>\n",
       "    <tr>\n",
       "      <th>3</th>\n",
       "      <td>0</td>\n",
       "      <td>0</td>\n",
       "      <td>0</td>\n",
       "      <td>0</td>\n",
       "      <td>0</td>\n",
       "      <td>0</td>\n",
       "      <td>0</td>\n",
       "      <td>0</td>\n",
       "      <td>0</td>\n",
       "      <td>0</td>\n",
       "      <td>...</td>\n",
       "      <td>0</td>\n",
       "      <td>0</td>\n",
       "      <td>0</td>\n",
       "      <td>0</td>\n",
       "      <td>0</td>\n",
       "      <td>0</td>\n",
       "      <td>0</td>\n",
       "      <td>0</td>\n",
       "      <td>0</td>\n",
       "      <td>0</td>\n",
       "    </tr>\n",
       "    <tr>\n",
       "      <th>4</th>\n",
       "      <td>0</td>\n",
       "      <td>0</td>\n",
       "      <td>0</td>\n",
       "      <td>0</td>\n",
       "      <td>0</td>\n",
       "      <td>0</td>\n",
       "      <td>0</td>\n",
       "      <td>0</td>\n",
       "      <td>0</td>\n",
       "      <td>0</td>\n",
       "      <td>...</td>\n",
       "      <td>0</td>\n",
       "      <td>0</td>\n",
       "      <td>0</td>\n",
       "      <td>0</td>\n",
       "      <td>0</td>\n",
       "      <td>0</td>\n",
       "      <td>0</td>\n",
       "      <td>0</td>\n",
       "      <td>0</td>\n",
       "      <td>0</td>\n",
       "    </tr>\n",
       "  </tbody>\n",
       "</table>\n",
       "<p>5 rows × 461 columns</p>\n",
       "</div>"
      ],
      "text/plain": [
       "   @adv:en_general  @adv:peut_etre  @adv:por_favor  @adv:por_supuesto  \\\n",
       "0                0               0               0                  0   \n",
       "1                0               0               0                  0   \n",
       "2                0               0               0                  0   \n",
       "3                0               0               0                  0   \n",
       "4                0               0               0                  0   \n",
       "\n",
       "   @adv:s_il_te_plait  @adv:s_il_vous_plait  @cnj:des_que  \\\n",
       "0                   0                     0             0   \n",
       "1                   0                     0             0   \n",
       "2                   0                     0             0   \n",
       "3                   0                     0             0   \n",
       "4                   0                     0             0   \n",
       "\n",
       "   @common_phrases:a_demain  @common_phrases:a_plus  \\\n",
       "0                         0                       0   \n",
       "1                         0                       0   \n",
       "2                         0                       0   \n",
       "3                         0                       0   \n",
       "4                         0                       0   \n",
       "\n",
       "   @common_phrases:a_plus_tard  ...  subj  suff  sw  tn  vaux  vbdo  vbhaver  \\\n",
       "0                            0  ...     0     0   0   0     0     0        0   \n",
       "1                            0  ...     0     0   0   0     0     0        0   \n",
       "2                            0  ...     0     0   0   1     0     0        0   \n",
       "3                            0  ...     0     0   0   0     0     0        0   \n",
       "4                            0  ...     0     0   0   0     0     0        0   \n",
       "\n",
       "   vblex  vbmod  vbser  \n",
       "0      1      0      0  \n",
       "1      0      0      0  \n",
       "2      0      0      0  \n",
       "3      0      0      0  \n",
       "4      0      0      0  \n",
       "\n",
       "[5 rows x 461 columns]"
      ]
     },
     "execution_count": 11,
     "metadata": {},
     "output_type": "execute_result"
    }
   ],
   "source": [
    "# no longer optimizing this for now,\n",
    "# i want to talk about specifying the model\n",
    "# we'll return to this\n",
    "\n",
    "vectorized_df.head()"
   ]
  },
  {
   "cell_type": "code",
   "execution_count": 12,
   "metadata": {},
   "outputs": [
    {
     "data": {
      "text/plain": [
       "@adv:en_general       1\n",
       "sfmamma               1\n",
       "sfmaman               1\n",
       "sfmagnifique          1\n",
       "sfmaglione            1\n",
       "                   ... \n",
       "vblex              2238\n",
       "pl                 2296\n",
       "m                  2350\n",
       "n                  5578\n",
       "sg                 7549\n",
       "Length: 461, dtype: int64"
      ]
     },
     "execution_count": 12,
     "metadata": {},
     "output_type": "execute_result"
    }
   ],
   "source": [
    "vectorized_df.sum().sort_values()"
   ]
  },
  {
   "cell_type": "code",
   "execution_count": 13,
   "metadata": {},
   "outputs": [
    {
     "data": {
      "image/png": "[encoded data removed]",
      "text/plain": [
       "<Figure size 640x480 with 1 Axes>"
      ]
     },
     "metadata": {},
     "output_type": "display_data"
    }
   ],
   "source": [
    "# curious about most common parts of speech.\n",
    "# how different parts of speech correspond to rate of correct responses\n",
    "\n",
    "#\n",
    "vectorized_df.sum().sort_values(ascending=False)[0:20].plot(kind = \"bar\",title=\"most common parts of speech\")\n",
    "plt.show()\n"
   ]
  },
  {
   "cell_type": "code",
   "execution_count": 14,
   "metadata": {},
   "outputs": [
    {
     "data": {
      "text/plain": [
       "(12872, 474)"
      ]
     },
     "execution_count": 14,
     "metadata": {},
     "output_type": "execute_result"
    }
   ],
   "source": [
    "# p_recall \n",
    "\n",
    "df = pd.concat([df,vectorized_df],axis=1)\n",
    "df.shape"
   ]
  },
  {
   "cell_type": "code",
   "execution_count": 15,
   "metadata": {},
   "outputs": [],
   "source": [
    "df.drop(columns = ['lexeme_string'],inplace=True)"
   ]
  },
  {
   "cell_type": "code",
   "execution_count": 16,
   "metadata": {},
   "outputs": [],
   "source": [
    "grp_by_columns = list(df.columns[~df.columns.isin(['p_recall','delta','user_id','timestamp',\"history_seen\", \"history_correct\", \"session_seen\",  \"session_correct\"])])\n",
    "\n",
    "\"\"\"\n",
    "select avg(p_recall)\n",
    "from df\n",
    "group by var1\n",
    "\n",
    "select avg(p_recall)\n",
    "from df\n",
    "group by var2\n",
    "\n",
    "...\n",
    "\n",
    "select avg(p_recall)\n",
    "from df\n",
    "group by varn\n",
    "\n",
    "\"\"\"\n",
    "\n",
    "\"\"\"\n",
    "\n",
    "select avg(p_recall)\n",
    "from df\n",
    "group by var1, ..., varn\n",
    "\n",
    "\"\"\"\n",
    "\n",
    "# 1515 binary vectors (one for each part of speech)\n",
    "\n",
    "# 0 avg(p_recall)\n",
    "# 1 avg(p_recall)\n",
    "\n",
    "# df.drop(columns = grp_by_columns).mean(axis=1)\n",
    "\n",
    "\n",
    "\n",
    "# df[grp_by_columns].mean(axis = 1)\n",
    "\n",
    "list_of_recall_variation_by_column = []\n",
    "\n",
    "for col in grp_by_columns:\n",
    "\n",
    "    variation_of_means = df.groupby(col)['p_recall'].mean().std()\n",
    "\n",
    "    variation_dict = {\"column_name\":col,\n",
    "                      \"variation_of_means\":variation_of_means}\n",
    "\n",
    "    list_of_recall_variation_by_column.append(variation_dict)\n",
    "\n",
    "recall_variation_by_column = pd.DataFrame(list_of_recall_variation_by_column)\n",
    "    \n",
    "# col_name, std of group means"
   ]
  },
  {
   "cell_type": "markdown",
   "metadata": {},
   "source": [
    "#### fitting"
   ]
  },
  {
   "cell_type": "code",
   "execution_count": 17,
   "metadata": {},
   "outputs": [],
   "source": [
    "from spaced_repetition import *\n",
    "import torch.optim as optim\n"
   ]
  },
  {
   "cell_type": "markdown",
   "metadata": {},
   "source": [
    "### Leitner"
   ]
  },
  {
   "cell_type": "code",
   "execution_count": 18,
   "metadata": {},
   "outputs": [],
   "source": [
    "from leitner import *\n",
    "\n",
    "leitner = leitner_model()\n",
    "leitner_x, leitner_delta = leitner_data(df)\n",
    "\n",
    "leitner_predicted_p_recall = leitner.predict(leitner_x,leitner_delta)"
   ]
  },
  {
   "cell_type": "code",
   "execution_count": 19,
   "metadata": {
    "scrolled": true
   },
   "outputs": [
    {
     "data": {
      "image/png": "[encoded data removed]",
      "text/plain": [
       "<Figure size 640x480 with 1 Axes>"
      ]
     },
     "metadata": {},
     "output_type": "display_data"
    }
   ],
   "source": [
    "def training_run_evaluator(model_name,y_true,y_pred):\n",
    "    \"\"\"we should add more model eval stuff to this\"\"\"\n",
    "    \n",
    "    if isinstance(y_true, torch.Tensor):\n",
    "        y_true = y_true.detach().numpy()\n",
    "        \n",
    "    fig = plt.figure()\n",
    "    plt.hist(y_pred.detach().numpy(),color = \"red\",alpha = .3,label = 'predicted',bins=50)\n",
    "    plt.hist(y_true,color = \"blue\",alpha = .3,label = 'observed',bins = 50)\n",
    "    plt.legend()\n",
    "    plt.title(f\"{model_name} vs actual\")\n",
    "    \n",
    "    # fig = plt.gcf()\n",
    "    # plt.close(fig)\n",
    "\n",
    "    return fig\n",
    "\n",
    "\n",
    "fig = training_run_evaluator(\"leitner\",df['p_recall'],leitner_predicted_p_recall)"
   ]
  },
  {
   "cell_type": "markdown",
   "metadata": {},
   "source": [
    "### Half-Life Regression HLR"
   ]
  },
  {
   "cell_type": "code",
   "execution_count": 20,
   "metadata": {},
   "outputs": [],
   "source": [
    "import torch.optim as optim\n",
    "\n",
    "input_dim = 2 # number of features (history_seen, history_correct)\n",
    "learning_rate = 0.001 # hyperparameter that we give the optimizer\n",
    "num_epochs = 100 # 1 epoch = a single forward pass of all data  \n",
    "alpha = 0.0 # controls the influence of the half-life term\n",
    "lambda_reg = 0.0 # controls the influence of the penalty/regularization term\n",
    "\n",
    "hlr = SpacedRepetition(input_dim, alpha, lambda_reg)\n",
    "optimizer = optim.Adam(hlr.parameters(), lr=learning_rate) # default learning rate for adam is .001\n"
   ]
  },
  {
   "cell_type": "code",
   "execution_count": 21,
   "metadata": {},
   "outputs": [],
   "source": [
    "from utils import mape_rmse_rsq"
   ]
  },
  {
   "cell_type": "code",
   "execution_count": 22,
   "metadata": {},
   "outputs": [],
   "source": [
    "dataloader = sr_data_loader(df,batch_size = 12000)"
   ]
  },
  {
   "cell_type": "code",
   "execution_count": 23,
   "metadata": {},
   "outputs": [
    {
     "name": "stdout",
     "output_type": "stream",
     "text": [
      "training in epoch:0 -- batch:1\n",
      "training in epoch:0 -- batch:2\n",
      "training in epoch:1 -- batch:1\n",
      "training in epoch:1 -- batch:2\n",
      "training in epoch:2 -- batch:1\n",
      "training in epoch:2 -- batch:2\n",
      "training in epoch:3 -- batch:1\n",
      "training in epoch:3 -- batch:2\n",
      "training in epoch:4 -- batch:1\n",
      "training in epoch:4 -- batch:2\n",
      "training in epoch:5 -- batch:1\n",
      "training in epoch:5 -- batch:2\n",
      "training in epoch:6 -- batch:1\n",
      "training in epoch:6 -- batch:2\n",
      "training in epoch:7 -- batch:1\n",
      "training in epoch:7 -- batch:2\n",
      "training in epoch:8 -- batch:1\n",
      "training in epoch:8 -- batch:2\n",
      "training in epoch:9 -- batch:1\n",
      "training in epoch:9 -- batch:2\n",
      "training in epoch:10 -- batch:1\n",
      "training in epoch:10 -- batch:2\n",
      "training in epoch:11 -- batch:1\n",
      "training in epoch:11 -- batch:2\n",
      "training in epoch:12 -- batch:1\n",
      "training in epoch:12 -- batch:2\n",
      "training in epoch:13 -- batch:1\n",
      "training in epoch:13 -- batch:2\n",
      "training in epoch:14 -- batch:1\n",
      "training in epoch:14 -- batch:2\n",
      "training in epoch:15 -- batch:1\n",
      "training in epoch:15 -- batch:2\n",
      "training in epoch:16 -- batch:1\n",
      "training in epoch:16 -- batch:2\n",
      "training in epoch:17 -- batch:1\n",
      "training in epoch:17 -- batch:2\n",
      "training in epoch:18 -- batch:1\n",
      "training in epoch:18 -- batch:2\n",
      "training in epoch:19 -- batch:1\n",
      "training in epoch:19 -- batch:2\n",
      "training in epoch:20 -- batch:1\n",
      "training in epoch:20 -- batch:2\n",
      "training in epoch:21 -- batch:1\n",
      "training in epoch:21 -- batch:2\n",
      "training in epoch:22 -- batch:1\n",
      "training in epoch:22 -- batch:2\n",
      "training in epoch:23 -- batch:1\n",
      "training in epoch:23 -- batch:2\n",
      "training in epoch:24 -- batch:1\n",
      "training in epoch:24 -- batch:2\n",
      "training in epoch:25 -- batch:1\n",
      "training in epoch:25 -- batch:2\n",
      "training in epoch:26 -- batch:1\n",
      "training in epoch:26 -- batch:2\n",
      "training in epoch:27 -- batch:1\n",
      "training in epoch:27 -- batch:2\n",
      "training in epoch:28 -- batch:1\n",
      "training in epoch:28 -- batch:2\n",
      "training in epoch:29 -- batch:1\n",
      "training in epoch:29 -- batch:2\n",
      "training in epoch:30 -- batch:1\n",
      "training in epoch:30 -- batch:2\n",
      "training in epoch:31 -- batch:1\n",
      "training in epoch:31 -- batch:2\n",
      "training in epoch:32 -- batch:1\n",
      "training in epoch:32 -- batch:2\n",
      "training in epoch:33 -- batch:1\n",
      "training in epoch:33 -- batch:2\n",
      "training in epoch:34 -- batch:1\n",
      "training in epoch:34 -- batch:2\n",
      "training in epoch:35 -- batch:1\n",
      "training in epoch:35 -- batch:2\n",
      "training in epoch:36 -- batch:1\n",
      "training in epoch:36 -- batch:2\n",
      "training in epoch:37 -- batch:1\n",
      "training in epoch:37 -- batch:2\n",
      "training in epoch:38 -- batch:1\n",
      "training in epoch:38 -- batch:2\n",
      "training in epoch:39 -- batch:1\n",
      "training in epoch:39 -- batch:2\n",
      "training in epoch:40 -- batch:1\n",
      "training in epoch:40 -- batch:2\n",
      "training in epoch:41 -- batch:1\n",
      "training in epoch:41 -- batch:2\n",
      "training in epoch:42 -- batch:1\n",
      "training in epoch:42 -- batch:2\n",
      "training in epoch:43 -- batch:1\n",
      "training in epoch:43 -- batch:2\n",
      "training in epoch:44 -- batch:1\n",
      "training in epoch:44 -- batch:2\n",
      "training in epoch:45 -- batch:1\n",
      "training in epoch:45 -- batch:2\n",
      "training in epoch:46 -- batch:1\n",
      "training in epoch:46 -- batch:2\n",
      "training in epoch:47 -- batch:1\n",
      "training in epoch:47 -- batch:2\n",
      "training in epoch:48 -- batch:1\n",
      "training in epoch:48 -- batch:2\n",
      "training in epoch:49 -- batch:1\n",
      "training in epoch:49 -- batch:2\n",
      "training in epoch:50 -- batch:1\n",
      "training in epoch:50 -- batch:2\n",
      "training in epoch:51 -- batch:1\n",
      "training in epoch:51 -- batch:2\n",
      "training in epoch:52 -- batch:1\n",
      "training in epoch:52 -- batch:2\n",
      "training in epoch:53 -- batch:1\n",
      "training in epoch:53 -- batch:2\n",
      "training in epoch:54 -- batch:1\n",
      "training in epoch:54 -- batch:2\n",
      "training in epoch:55 -- batch:1\n",
      "training in epoch:55 -- batch:2\n",
      "training in epoch:56 -- batch:1\n",
      "training in epoch:56 -- batch:2\n",
      "training in epoch:57 -- batch:1\n",
      "training in epoch:57 -- batch:2\n",
      "training in epoch:58 -- batch:1\n",
      "training in epoch:58 -- batch:2\n",
      "training in epoch:59 -- batch:1\n",
      "training in epoch:59 -- batch:2\n",
      "training in epoch:60 -- batch:1\n",
      "training in epoch:60 -- batch:2\n",
      "training in epoch:61 -- batch:1\n",
      "training in epoch:61 -- batch:2\n",
      "training in epoch:62 -- batch:1\n",
      "training in epoch:62 -- batch:2\n",
      "training in epoch:63 -- batch:1\n",
      "training in epoch:63 -- batch:2\n",
      "training in epoch:64 -- batch:1\n",
      "training in epoch:64 -- batch:2\n",
      "training in epoch:65 -- batch:1\n",
      "training in epoch:65 -- batch:2\n",
      "training in epoch:66 -- batch:1\n",
      "training in epoch:66 -- batch:2\n",
      "training in epoch:67 -- batch:1\n",
      "training in epoch:67 -- batch:2\n",
      "training in epoch:68 -- batch:1\n",
      "training in epoch:68 -- batch:2\n",
      "training in epoch:69 -- batch:1\n",
      "training in epoch:69 -- batch:2\n",
      "training in epoch:70 -- batch:1\n",
      "training in epoch:70 -- batch:2\n",
      "training in epoch:71 -- batch:1\n",
      "training in epoch:71 -- batch:2\n",
      "training in epoch:72 -- batch:1\n",
      "training in epoch:72 -- batch:2\n",
      "training in epoch:73 -- batch:1\n",
      "training in epoch:73 -- batch:2\n",
      "training in epoch:74 -- batch:1\n",
      "training in epoch:74 -- batch:2\n",
      "training in epoch:75 -- batch:1\n",
      "training in epoch:75 -- batch:2\n",
      "training in epoch:76 -- batch:1\n",
      "training in epoch:76 -- batch:2\n",
      "training in epoch:77 -- batch:1\n",
      "training in epoch:77 -- batch:2\n",
      "training in epoch:78 -- batch:1\n",
      "training in epoch:78 -- batch:2\n",
      "training in epoch:79 -- batch:1\n",
      "training in epoch:79 -- batch:2\n",
      "training in epoch:80 -- batch:1\n",
      "training in epoch:80 -- batch:2\n",
      "training in epoch:81 -- batch:1\n",
      "training in epoch:81 -- batch:2\n",
      "training in epoch:82 -- batch:1\n",
      "training in epoch:82 -- batch:2\n",
      "training in epoch:83 -- batch:1\n",
      "training in epoch:83 -- batch:2\n",
      "training in epoch:84 -- batch:1\n",
      "training in epoch:84 -- batch:2\n",
      "training in epoch:85 -- batch:1\n",
      "training in epoch:85 -- batch:2\n",
      "training in epoch:86 -- batch:1\n",
      "training in epoch:86 -- batch:2\n",
      "training in epoch:87 -- batch:1\n",
      "training in epoch:87 -- batch:2\n",
      "training in epoch:88 -- batch:1\n",
      "training in epoch:88 -- batch:2\n",
      "training in epoch:89 -- batch:1\n",
      "training in epoch:89 -- batch:2\n",
      "training in epoch:90 -- batch:1\n",
      "training in epoch:90 -- batch:2\n",
      "training in epoch:91 -- batch:1\n",
      "training in epoch:91 -- batch:2\n",
      "training in epoch:92 -- batch:1\n",
      "training in epoch:92 -- batch:2\n",
      "training in epoch:93 -- batch:1\n",
      "training in epoch:93 -- batch:2\n",
      "training in epoch:94 -- batch:1\n",
      "training in epoch:94 -- batch:2\n",
      "training in epoch:95 -- batch:1\n",
      "training in epoch:95 -- batch:2\n",
      "training in epoch:96 -- batch:1\n",
      "training in epoch:96 -- batch:2\n",
      "training in epoch:97 -- batch:1\n",
      "training in epoch:97 -- batch:2\n",
      "training in epoch:98 -- batch:1\n",
      "training in epoch:98 -- batch:2\n",
      "training in epoch:99 -- batch:1\n",
      "training in epoch:99 -- batch:2\n"
     ]
    }
   ],
   "source": [
    "metrics = {\"epoch\":[],\n",
    "           \"batch\": [],\n",
    "           \"batch_training_loss\":[],\n",
    "           \"batch_training_mape\":[],\n",
    "           \"batch_training_rmse\":[],\n",
    "           \"batch_training_rsq\":[]}\n",
    "\n",
    "for epoch in range(num_epochs):\n",
    "    hlr.train()\n",
    "    for batch_idx, (batch_x, batch_p, batch_h, batch_delta) in enumerate(dataloader, start=1):\n",
    "\n",
    "        print(f\"training in epoch:{epoch} -- batch:{batch_idx}\")\n",
    "        \n",
    "        h_hat = hlr.half_life(batch_x)\n",
    "        p_hat = hlr.p_recall(h_hat, batch_delta)\n",
    "        \n",
    "        batch_loss = hlr.loss(batch_p, p_hat, batch_h, h_hat)\n",
    "        \n",
    "        # metrics\n",
    "        batch_mape, batch_rmse, batch_rsq = mape_rmse_rsq(batch_p,p_hat)\n",
    "        \n",
    "        metrics['epoch'].append(epoch + 1)\n",
    "        metrics['batch'].append(batch_idx)\n",
    "        metrics['batch_training_loss'].append(batch_loss.item())\n",
    "        metrics['batch_training_mape'].append(batch_mape.detach().cpu().item())\n",
    "        metrics['batch_training_rmse'].append(batch_rmse.detach().cpu().item())\n",
    "        metrics['batch_training_rsq'].append(batch_rsq.detach().cpu().item())\n",
    "        \n",
    "        optimizer.zero_grad()\n",
    "        batch_loss.backward()\n",
    "        optimizer.step()"
   ]
  },
  {
   "cell_type": "code",
   "execution_count": 24,
   "metadata": {},
   "outputs": [],
   "source": [
    "batch_metrics_df = pd.DataFrame(metrics) # 1000 records, very granular\n",
    "\n",
    "# aggregate to the epoch (1 epoch is equivalent to 10 batches in our case. it means all data has passed through the model)\n",
    "\n",
    "epoch_metrics_df = batch_metrics_df.groupby('epoch').mean()\n",
    "\n"
   ]
  },
  {
   "cell_type": "code",
   "execution_count": 25,
   "metadata": {},
   "outputs": [
    {
     "data": {
      "text/plain": [
       "Index(['batch', 'batch_training_loss', 'batch_training_mape',\n",
       "       'batch_training_rmse', 'batch_training_rsq'],\n",
       "      dtype='object')"
      ]
     },
     "execution_count": 25,
     "metadata": {},
     "output_type": "execute_result"
    }
   ],
   "source": [
    "epoch_metrics_df.columns"
   ]
  },
  {
   "cell_type": "code",
   "execution_count": 26,
   "metadata": {
    "scrolled": true
   },
   "outputs": [
    {
     "data": {
      "text/plain": [
       "[<matplotlib.lines.Line2D at 0x137a72b90>]"
      ]
     },
     "execution_count": 26,
     "metadata": {},
     "output_type": "execute_result"
    },
    {
     "data": {
      "image/png": "[encoded data removed]",
      "text/plain": [
       "<Figure size 640x480 with 1 Axes>"
      ]
     },
     "metadata": {},
     "output_type": "display_data"
    }
   ],
   "source": [
    "plt.plot(range(num_epochs), epoch_metrics_df['batch_training_loss'])\n",
    "# plt.ylim(0,losses[0])\n"
   ]
  },
  {
   "cell_type": "code",
   "execution_count": null,
   "metadata": {},
   "outputs": [],
   "source": []
  },
  {
   "cell_type": "code",
   "execution_count": 27,
   "metadata": {
    "scrolled": true
   },
   "outputs": [
    {
     "data": {
      "image/png": "[encoded data removed]",
      "text/plain": [
       "<Figure size 640x480 with 1 Axes>"
      ]
     },
     "metadata": {},
     "output_type": "display_data"
    }
   ],
   "source": [
    "from utils import r_squared\n",
    "plt.plot(range(num_epochs), epoch_metrics_df['batch_training_rsq'],color = 'red',label = \"HLR rsq\")\n",
    "plt.axhline(y = r_squared(torch.tensor(df['p_recall']),leitner_predicted_p_recall).detach().item(),label = \"leitner rsq\")\n",
    "plt.xlabel('Epochs')\n",
    "plt.ylabel('rsqaured')\n",
    "plt.title('rsquared vs. Epochs')\n",
    "plt.legend()\n",
    "plt.show()"
   ]
  },
  {
   "cell_type": "code",
   "execution_count": null,
   "metadata": {},
   "outputs": [],
   "source": [
    "predictions = hlr.predict()"
   ]
  },
  {
   "cell_type": "code",
   "execution_count": null,
   "metadata": {},
   "outputs": [],
   "source": [
    "# there's some error - we've made a mistake\n",
    "\n",
    "# maybe, our features just don't have enough information, and it's impossible to learn"
   ]
  },
  {
   "cell_type": "code",
   "execution_count": null,
   "metadata": {},
   "outputs": [],
   "source": [
    "# with this really bad result, we decide to peak at the work of duolingo\n",
    "\n",
    "# observations\n",
    "\n",
    "# they don't let half life be smaller than 15 minutes, or greater than 274 days (9 months)\n",
    "# they clip half - life\n",
    "\n"
   ]
  },
  {
   "cell_type": "code",
   "execution_count": null,
   "metadata": {},
   "outputs": [],
   "source": [
    "predicted_h_hat = model.forward(x)\n",
    "predicted_p_recall = model.prediction(predicted_h_hat.squeeze(),delta)\n",
    "\n",
    "plt.figure()\n",
    "plt.hist(predicted_p_recall.detach().numpy(),color = \"red\",alpha = .3,label = 'predicted')\n",
    "plt.hist(p.detach().numpy(),color = \"blue\",alpha = .3,label = 'observed')\n",
    "plt.legend()\n",
    "plt.show()"
   ]
  },
  {
   "cell_type": "code",
   "execution_count": null,
   "metadata": {},
   "outputs": [],
   "source": [
    "# observations\n",
    "# model overestimates p_recall \n"
   ]
  },
  {
   "cell_type": "code",
   "execution_count": null,
   "metadata": {},
   "outputs": [],
   "source": [
    "print(f\"mean absolute percentage error: {mean_absolute_percentage_error(torch.tensor(simple_df['p_recall']),predicted_p_recall)}\")"
   ]
  },
  {
   "cell_type": "code",
   "execution_count": null,
   "metadata": {},
   "outputs": [],
   "source": [
    "print(f\"r-squared: {r_squared(torch.tensor(simple_df['p_recall']),predicted_p_recall)}\")"
   ]
  },
  {
   "cell_type": "code",
   "execution_count": null,
   "metadata": {},
   "outputs": [],
   "source": [
    "# it's going to be really important to compare our half-life model (when eventually we get it right)\n",
    "# to whatever system is in deployment currently\n",
    "# compare to what duolingo is using to predict when to show a user a vocab word\n",
    "# leitner is the legacy system\n",
    "# we need to beat leitner\n",
    "# therefore we need build leitner, otherwise we can't do the comparison.\n"
   ]
  },
  {
   "cell_type": "code",
   "execution_count": null,
   "metadata": {},
   "outputs": [],
   "source": []
  }
 ],
 "metadata": {
  "kernelspec": {
   "display_name": "sr",
   "language": "python",
   "name": "sr"
  },
  "language_info": {
   "codemirror_mode": {
    "name": "ipython",
    "version": 3
   },
   "file_extension": ".py",
   "mimetype": "text/x-python",
   "name": "python",
   "nbconvert_exporter": "python",
   "pygments_lexer": "ipython3",
   "version": "3.11.9"
  }
 },
 "nbformat": 4,
 "nbformat_minor": 4
}
