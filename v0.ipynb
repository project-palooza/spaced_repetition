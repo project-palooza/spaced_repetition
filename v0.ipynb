{
 "cells": [
  {
   "cell_type": "code",
   "execution_count": 1,
   "metadata": {},
   "outputs": [],
   "source": [
    "import numpy as np\n",
    "import pandas as pd \n",
    "import matplotlib.pyplot as plt\n",
    "\n",
    "# our module\n",
    "from preprocess import *"
   ]
  },
  {
   "cell_type": "code",
   "execution_count": 2,
   "metadata": {},
   "outputs": [],
   "source": [
    "df = sr_data_reader(p = .01)"
   ]
  },
  {
   "cell_type": "markdown",
   "metadata": {
    "jp-MarkdownHeadingCollapsed": true
   },
   "source": [
    "### language features"
   ]
  },
  {
   "cell_type": "code",
   "execution_count": null,
   "metadata": {},
   "outputs": [],
   "source": [
    "# before we try to learn good values for theta \n",
    "# we need to construct x\n",
    "\n",
    "# x = information a students history learning a certain word\n",
    "\n",
    "df.iloc[0,:]"
   ]
  },
  {
   "cell_type": "code",
   "execution_count": null,
   "metadata": {},
   "outputs": [],
   "source": [
    "# (df['p_recall'] == (df['session_correct'])/(df['session_seen'])).sum() == df.shape[0]\n",
    "\n",
    "# p_recall is the ratio of session_correct/session_seen\n",
    "\n",
    "# p_recall is \"y\" \"ground truth\"\n",
    "\n",
    "# predicted_p_recall is \"y_hat\" \"prediction\"\n",
    "\n",
    "# error(p_recall,predicted_p_recall) <- we want this to be as small as possible\n",
    "\n",
    "# if we can very reliably predict p_recall, what is the value of this in real-life terms?\n"
   ]
  },
  {
   "cell_type": "code",
   "execution_count": null,
   "metadata": {},
   "outputs": [],
   "source": [
    "# get parts of speech\n",
    "\n",
    "def lexeme_df(filename):\n",
    "\n",
    "    import re\n",
    "    df_single_col = pd.read_csv(filename, delimiter='\\t', header=None, names=['line'])\n",
    "\n",
    "    def split_line(line):\n",
    "        parts = re.split(r'\\s+', line, maxsplit=2)\n",
    "        if len(parts) == 3:\n",
    "            return parts\n",
    "        return [None, None, None]\n",
    "\n",
    "    df_split = df_single_col['line'].apply(split_line)\n",
    "    df = pd.DataFrame(df_split.tolist(), columns=['lexeme', 'category', 'meaning'])\n",
    "\n",
    "    return df"
   ]
  },
  {
   "cell_type": "code",
   "execution_count": null,
   "metadata": {},
   "outputs": [],
   "source": [
    "lexemes = lexeme_df('lexeme_reference.txt')\n",
    "lexemes.head()"
   ]
  },
  {
   "cell_type": "code",
   "execution_count": null,
   "metadata": {},
   "outputs": [],
   "source": [
    "lexemes['lexeme'].nunique()"
   ]
  },
  {
   "cell_type": "code",
   "execution_count": null,
   "metadata": {},
   "outputs": [],
   "source": [
    "# one-hot encoding\n",
    "# dummy variables / indicator variables\n",
    "\n",
    "# df.loc[0,\"lexeme_string\"]\n",
    "\n",
    "\"<det><def><nt><sg><nom>\"\n",
    "\n",
    "# det, df, nt, sg, nom + 87 more \n",
    "\n",
    "# word | det | def | nt | sg | nom | ...\n",
    "# das  |  1  | 1   | 1  | 1  |  1  | 0 ...\n",
    "\n",
    "\n",
    "\n",
    "# look for the first <, remove everything to the left\n",
    "# then remove <, >\n",
    "\n",
    "# \n",
    "\n",
    "def extract_right_of_lt(text):\n",
    "    import re\n",
    "    match = re.search(r'<(.*)', text)\n",
    "    return match.group(1) if match else ''\n",
    "\n",
    "\n"
   ]
  },
  {
   "cell_type": "code",
   "execution_count": null,
   "metadata": {},
   "outputs": [],
   "source": [
    "df['lexeme_string'] = df['lexeme_string'].apply(extract_right_of_lt)\n",
    "df['lexeme_string'] = df['lexeme_string'].str.replace(\"<\",\" \")\n",
    "df['lexeme_string'] = df['lexeme_string'].str.replace(\">\",\"\")\n",
    "df['lexeme_string'] = df['lexeme_string'].str.replace(\"*\",\"\")\n",
    "df['lexeme_string'] = df['lexeme_string'].str.replace(\"/\",\"\")\n",
    "df['lexeme_string']"
   ]
  },
  {
   "cell_type": "code",
   "execution_count": null,
   "metadata": {},
   "outputs": [],
   "source": [
    "from sklearn.feature_extraction.text import CountVectorizer\n",
    "\n",
    "vectorizer = CountVectorizer(tokenizer=lambda x: x.split(), binary=True)\n",
    "vectorized_words = vectorizer.fit_transform(df['lexeme_string'])\n",
    "vectorized_df = pd.DataFrame(vectorized_words.toarray(), columns=vectorizer.get_feature_names_out(), index=df.index)"
   ]
  },
  {
   "cell_type": "code",
   "execution_count": null,
   "metadata": {},
   "outputs": [],
   "source": [
    "# no longer optimizing this for now,\n",
    "# i want to talk about specifying the model\n",
    "# we'll return to this\n",
    "\n",
    "vectorized_df.head()"
   ]
  },
  {
   "cell_type": "code",
   "execution_count": null,
   "metadata": {},
   "outputs": [],
   "source": [
    "vectorized_df.sum().sort_values()"
   ]
  },
  {
   "cell_type": "code",
   "execution_count": null,
   "metadata": {},
   "outputs": [],
   "source": [
    "# curious about most common parts of speech.\n",
    "# how different parts of speech correspond to rate of correct responses\n",
    "\n",
    "#\n",
    "vectorized_df.sum().sort_values(ascending=False)[0:20].plot(kind = \"bar\",title=\"most common parts of speech\")\n",
    "plt.show()\n"
   ]
  },
  {
   "cell_type": "code",
   "execution_count": null,
   "metadata": {},
   "outputs": [],
   "source": [
    "# p_recall \n",
    "\n",
    "df = pd.concat([df,vectorized_df],axis=1)\n",
    "df.shape"
   ]
  },
  {
   "cell_type": "code",
   "execution_count": null,
   "metadata": {},
   "outputs": [],
   "source": [
    "df.drop(columns = ['lexeme_string'],inplace=True)"
   ]
  },
  {
   "cell_type": "code",
   "execution_count": null,
   "metadata": {},
   "outputs": [],
   "source": [
    "grp_by_columns = list(df.columns[~df.columns.isin(['p_recall','delta','user_id','timestamp',\"history_seen\", \"history_correct\", \"session_seen\",  \"session_correct\"])])\n",
    "\n",
    "\"\"\"\n",
    "select avg(p_recall)\n",
    "from df\n",
    "group by var1\n",
    "\n",
    "select avg(p_recall)\n",
    "from df\n",
    "group by var2\n",
    "\n",
    "...\n",
    "\n",
    "select avg(p_recall)\n",
    "from df\n",
    "group by varn\n",
    "\n",
    "\"\"\"\n",
    "\n",
    "\"\"\"\n",
    "\n",
    "select avg(p_recall)\n",
    "from df\n",
    "group by var1, ..., varn\n",
    "\n",
    "\"\"\"\n",
    "\n",
    "# 1515 binary vectors (one for each part of speech)\n",
    "\n",
    "# 0 avg(p_recall)\n",
    "# 1 avg(p_recall)\n",
    "\n",
    "# df.drop(columns = grp_by_columns).mean(axis=1)\n",
    "\n",
    "\n",
    "\n",
    "# df[grp_by_columns].mean(axis = 1)\n",
    "\n",
    "list_of_recall_variation_by_column = []\n",
    "\n",
    "for col in grp_by_columns:\n",
    "\n",
    "    variation_of_means = df.groupby(col)['p_recall'].mean().std()\n",
    "\n",
    "    variation_dict = {\"column_name\":col,\n",
    "                      \"variation_of_means\":variation_of_means}\n",
    "\n",
    "    list_of_recall_variation_by_column.append(variation_dict)\n",
    "\n",
    "recall_variation_by_column = pd.DataFrame(list_of_recall_variation_by_column)\n",
    "    \n",
    "# col_name, std of group means"
   ]
  },
  {
   "cell_type": "markdown",
   "metadata": {},
   "source": [
    "#### fitting"
   ]
  },
  {
   "cell_type": "code",
   "execution_count": null,
   "metadata": {},
   "outputs": [],
   "source": [
    "from spaced_repetition import *\n",
    "import torch.optim as optim\n"
   ]
  },
  {
   "cell_type": "markdown",
   "metadata": {},
   "source": [
    "### Leitner"
   ]
  },
  {
   "cell_type": "code",
   "execution_count": 3,
   "metadata": {},
   "outputs": [],
   "source": [
    "from leitner import *\n",
    "\n",
    "leitner = leitner_model()\n",
    "leitner_x, leitner_delta = leitner_data(df)\n",
    "\n",
    "leitner_predicted_p_recall = leitner.predict(leitner_x,leitner_delta)"
   ]
  },
  {
   "cell_type": "code",
   "execution_count": 4,
   "metadata": {},
   "outputs": [
    {
     "data": {
      "image/png": "[encoded data removed]",
      "text/plain": [
       "<Figure size 640x480 with 1 Axes>"
      ]
     },
     "metadata": {},
     "output_type": "display_data"
    }
   ],
   "source": [
    "plt.figure()\n",
    "plt.hist(leitner_predicted_p_recall.detach().numpy())\n",
    "plt.show()"
   ]
  },
  {
   "cell_type": "markdown",
   "metadata": {},
   "source": [
    "### HLR"
   ]
  },
  {
   "cell_type": "code",
   "execution_count": null,
   "metadata": {},
   "outputs": [],
   "source": [
    "import torch.optim as optim\n",
    "\n",
    "input_dim = 2 # number of features (history_seen, history_correct)\n",
    "learning_rate = 0.001 # hyperparameter that we give the optimizer\n",
    "num_epochs = 100 # 1 epoch = a single forward pass of all data  \n",
    "alpha = 0.01 # controls the influence of the half-life term\n",
    "lambda_reg = 0.01 # controls the influence of the penalty/regularization term\n",
    "\n",
    "hlr = SpacedRepetition(input_dim, alpha, lambda_reg)\n",
    "optimizer = optim.Adam(hlr.parameters(), lr=learning_rate) # default learning rate for adam is .001\n"
   ]
  },
  {
   "cell_type": "code",
   "execution_count": null,
   "metadata": {},
   "outputs": [],
   "source": [
    "from utils import (mean_absolute_percentage_error,\n",
    "                   root_mean_squared_error,\n",
    "                   r_squared)"
   ]
  },
  {
   "cell_type": "code",
   "execution_count": null,
   "metadata": {},
   "outputs": [],
   "source": [
    "metrics = {\"epoch:\"[],\n",
    "           \"batch\":\n",
    "           \"training loss\":[],\n",
    "           \"\"}\n",
    "metrics[]\n",
    "for epoch in range(num_epochs):\n",
    "    model.train()\n",
    "    \n",
    "    epoch_loss = 0.0\n",
    "    for batch_x, batch_p, batch_h, batch_delta in dataloader:\n",
    "        h_hat = model.forward(batch_x)\n",
    "        p_hat = model.prediction(h_hat, batch_delta)\n",
    "        \n",
    "        loss = model.loss(batch_p, p_hat, batch_h, h_hat)\n",
    "        # metrics\n",
    "        mape = mean_absolute_percentage_error\n",
    "        epoch_loss += loss.item()\n",
    "        \n",
    "        optimizer.zero_grad()\n",
    "        loss.backward()\n",
    "        optimizer.step()\n",
    "    \n",
    "    avg_loss = epoch_loss / len(dataloader)\n",
    "    losses.append(avg_loss)\n",
    "    print(f'Epoch [{epoch + 1}/{num_epochs}], Loss: {avg_loss:.4f}')"
   ]
  },
  {
   "cell_type": "code",
   "execution_count": null,
   "metadata": {},
   "outputs": [],
   "source": [
    "plt.plot(range(num_epochs), losses)\n",
    "# plt.ylim(0,losses[0])\n",
    "plt.xlabel('Epochs')\n",
    "plt.ylabel('Loss')\n",
    "plt.title('Loss vs. Epochs')\n",
    "plt.show()"
   ]
  },
  {
   "cell_type": "code",
   "execution_count": null,
   "metadata": {},
   "outputs": [],
   "source": [
    "# observations\n",
    "# we barely learned anything (the error hardly went down)\n",
    "# maybe, we just need more data, more epochs, maybe hyperparameters are severely wrong.\n",
    "\n",
    "# evaluation\n",
    "# the error \n",
    "# human interpretable error\n",
    "# R-squared 1 - (squared difference between predicted and observed)/(squared difference between observed and avg(observed))\n",
    "# RMSE - root mean squared error\n",
    "# avg absolute difference between p_recall and predicted p_recall\n",
    "\n",
    "# note about our priorities\n",
    "# from the pov of the user\n",
    "# is the experience of learning worse when you know everything or when you know nothing. \n",
    "# getting really easy questions (difficulty of remembering)\n",
    "# getting really hard questions (difficulty of remembering)\n",
    "\n",
    "# A. if our error is really big (cumulative error) because we are making a lot of small mistakes, then maybe thats ok\n",
    "# B. if our error is really big because we predict perfectly a lot of the time, but when we make a mistake, its a very big mistake\n",
    "\n",
    "# B is very bad. A is not so bad. p_recall is .5 and we predict .47, that's not bad.\n",
    "\n",
    "# calculate the residuals - (predicted - actual)\n",
    "\n",
    "# side note: if you have experience with ML, you will be wondering why we're training the model on all of our data\n",
    "# we are supposed to leave some aside. don't worry, we'll do this later\n",
    "\n",
    "# getting predictions\n",
    "predicted_h_hat = model.forward(x)\n",
    "predicted_p_recall = model.prediction(predicted_h_hat.squeeze(),delta)"
   ]
  },
  {
   "cell_type": "code",
   "execution_count": null,
   "metadata": {},
   "outputs": [],
   "source": [
    "plt.figure()\n",
    "plt.hist(predicted_p_recall.detach().numpy(),color = \"red\",alpha = .3,label = 'predicted')\n",
    "plt.hist(p.detach().numpy(),color = \"blue\",alpha = .3,label = 'observed')\n",
    "plt.legend()\n",
    "plt.show()"
   ]
  },
  {
   "cell_type": "code",
   "execution_count": null,
   "metadata": {},
   "outputs": [],
   "source": [
    "# observations\n",
    "# model overestimates p_recall \n"
   ]
  },
  {
   "cell_type": "code",
   "execution_count": null,
   "metadata": {},
   "outputs": [],
   "source": [
    "print(f\"mean absolute percentage error: {mean_absolute_percentage_error(torch.tensor(simple_df['p_recall']),predicted_p_recall)}\")"
   ]
  },
  {
   "cell_type": "code",
   "execution_count": null,
   "metadata": {},
   "outputs": [],
   "source": [
    "print(f\"r-squared: {r_squared(torch.tensor(simple_df['p_recall']),predicted_p_recall)}\")"
   ]
  },
  {
   "cell_type": "code",
   "execution_count": null,
   "metadata": {},
   "outputs": [],
   "source": [
    "# it's going to be really important to compare our half-life model (when eventually we get it right)\n",
    "# to whatever system is in deployment currently\n",
    "# compare to what duolingo is using to predict when to show a user a vocab word\n",
    "# leitner is the legacy system\n",
    "# we need to beat leitner\n",
    "# therefore we need build leitner, otherwise we can't do the comparison.\n"
   ]
  },
  {
   "cell_type": "code",
   "execution_count": null,
   "metadata": {},
   "outputs": [],
   "source": []
  }
 ],
 "metadata": {
  "kernelspec": {
   "display_name": "sr",
   "language": "python",
   "name": "sr"
  },
  "language_info": {
   "codemirror_mode": {
    "name": "ipython",
    "version": 3
   },
   "file_extension": ".py",
   "mimetype": "text/x-python",
   "name": "python",
   "nbconvert_exporter": "python",
   "pygments_lexer": "ipython3",
   "version": "3.11.9"
  }
 },
 "nbformat": 4,
 "nbformat_minor": 4
}
