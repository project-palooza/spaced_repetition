{
 "cells": [
  {
   "cell_type": "code",
   "execution_count": 11,
   "metadata": {},
   "outputs": [],
   "source": [
    "import numpy as np\n",
    "import pandas as pd \n",
    "import matplotlib.pyplot as plt"
   ]
  },
  {
   "cell_type": "code",
   "execution_count": 12,
   "metadata": {},
   "outputs": [
    {
     "name": "stdout",
     "output_type": "stream",
     "text": [
      "<class 'pandas.core.frame.DataFrame'>\n",
      "RangeIndex: 128800 entries, 0 to 128799\n",
      "Data columns (total 12 columns):\n",
      " #   Column             Non-Null Count   Dtype         \n",
      "---  ------             --------------   -----         \n",
      " 0   p_recall           128800 non-null  float64       \n",
      " 1   timestamp          128800 non-null  datetime64[ns]\n",
      " 2   delta              128800 non-null  int64         \n",
      " 3   user_id            128800 non-null  object        \n",
      " 4   learning_language  128800 non-null  object        \n",
      " 5   ui_language        128800 non-null  object        \n",
      " 6   lexeme_id          128800 non-null  object        \n",
      " 7   lexeme_string      128800 non-null  object        \n",
      " 8   history_seen       128800 non-null  int64         \n",
      " 9   history_correct    128800 non-null  int64         \n",
      " 10  session_seen       128800 non-null  int64         \n",
      " 11  session_correct    128800 non-null  int64         \n",
      "dtypes: datetime64[ns](1), float64(1), int64(5), object(5)\n",
      "memory usage: 11.8+ MB\n"
     ]
    }
   ],
   "source": [
    "import random\n",
    "p = 0.01  # 1% of the lines\n",
    "# keep the header, then take only 10% of lines\n",
    "# if random from [0,1] interval is greater than 0.1 the row will be skipped\n",
    "df = pd.read_csv(\n",
    "         'learning_traces.13m.csv',\n",
    "         header=0, \n",
    "         skiprows=lambda i: i>0 and random.random() > p\n",
    ")\n",
    "df['timestamp'] = pd.to_datetime(df['timestamp'],unit='s')\n",
    "df.drop_duplicates(inplace=True)\n",
    "df.info()"
   ]
  },
  {
   "cell_type": "code",
   "execution_count": 13,
   "metadata": {},
   "outputs": [
    {
     "data": {
      "text/plain": [
       "p_recall                                          1.0\n",
       "timestamp                         2013-02-28 20:11:14\n",
       "delta                                         7239420\n",
       "user_id                                        u:dDwF\n",
       "learning_language                                  es\n",
       "ui_language                                        en\n",
       "lexeme_id            25a5cb63448fad016a8eb4e3578ec3d4\n",
       "lexeme_string                   pollo/pollo<n><m><sg>\n",
       "history_seen                                        4\n",
       "history_correct                                     3\n",
       "session_seen                                        1\n",
       "session_correct                                     1\n",
       "Name: 0, dtype: object"
      ]
     },
     "execution_count": 13,
     "metadata": {},
     "output_type": "execute_result"
    }
   ],
   "source": [
    "# before we try to learn good values for theta \n",
    "# we need to construct x\n",
    "\n",
    "# x = information a students history learning a certain word\n",
    "\n",
    "df.iloc[0,:]"
   ]
  },
  {
   "cell_type": "code",
   "execution_count": 14,
   "metadata": {},
   "outputs": [],
   "source": [
    "# (df['p_recall'] == (df['session_correct'])/(df['session_seen'])).sum() == df.shape[0]\n",
    "\n",
    "# p_recall is the ratio of session_correct/session_seen\n",
    "\n",
    "# p_recall is \"y\" \"ground truth\"\n",
    "\n",
    "# predicted_p_recall is \"y_hat\" \"prediction\"\n",
    "\n",
    "# error(p_recall,predicted_p_recall) <- we want this to be as small as possible\n",
    "\n",
    "# if we can very reliably predict p_recall, what is the value of this in real-life terms?\n"
   ]
  },
  {
   "cell_type": "code",
   "execution_count": 15,
   "metadata": {},
   "outputs": [],
   "source": [
    "# get parts of speech\n",
    "\n",
    "def lexeme_df(filename):\n",
    "\n",
    "    import re\n",
    "    df_single_col = pd.read_csv(filename, delimiter='\\t', header=None, names=['line'])\n",
    "\n",
    "    def split_line(line):\n",
    "        parts = re.split(r'\\s+', line, maxsplit=2)\n",
    "        if len(parts) == 3:\n",
    "            return parts\n",
    "        return [None, None, None]\n",
    "\n",
    "    df_split = df_single_col['line'].apply(split_line)\n",
    "    df = pd.DataFrame(df_split.tolist(), columns=['lexeme', 'category', 'meaning'])\n",
    "\n",
    "    return df"
   ]
  },
  {
   "cell_type": "code",
   "execution_count": 16,
   "metadata": {},
   "outputs": [
    {
     "data": {
      "text/html": [
       "<div>\n",
       "<style scoped>\n",
       "    .dataframe tbody tr th:only-of-type {\n",
       "        vertical-align: middle;\n",
       "    }\n",
       "\n",
       "    .dataframe tbody tr th {\n",
       "        vertical-align: top;\n",
       "    }\n",
       "\n",
       "    .dataframe thead th {\n",
       "        text-align: right;\n",
       "    }\n",
       "</style>\n",
       "<table border=\"1\" class=\"dataframe\">\n",
       "  <thead>\n",
       "    <tr style=\"text-align: right;\">\n",
       "      <th></th>\n",
       "      <th>lexeme</th>\n",
       "      <th>category</th>\n",
       "      <th>meaning</th>\n",
       "    </tr>\n",
       "  </thead>\n",
       "  <tbody>\n",
       "    <tr>\n",
       "      <th>0</th>\n",
       "      <td>aa</td>\n",
       "      <td>animacy</td>\n",
       "      <td>Animate</td>\n",
       "    </tr>\n",
       "    <tr>\n",
       "      <th>1</th>\n",
       "      <td>acr</td>\n",
       "      <td>adjective</td>\n",
       "      <td>Acronym</td>\n",
       "    </tr>\n",
       "    <tr>\n",
       "      <th>2</th>\n",
       "      <td>adj</td>\n",
       "      <td>POS</td>\n",
       "      <td>Adjective</td>\n",
       "    </tr>\n",
       "    <tr>\n",
       "      <th>3</th>\n",
       "      <td>adv</td>\n",
       "      <td>POS</td>\n",
       "      <td>Adverb</td>\n",
       "    </tr>\n",
       "    <tr>\n",
       "      <th>4</th>\n",
       "      <td>al</td>\n",
       "      <td>other</td>\n",
       "      <td>Other (altre)</td>\n",
       "    </tr>\n",
       "  </tbody>\n",
       "</table>\n",
       "</div>"
      ],
      "text/plain": [
       "  lexeme   category        meaning\n",
       "0     aa    animacy        Animate\n",
       "1    acr  adjective        Acronym\n",
       "2    adj        POS      Adjective\n",
       "3    adv        POS         Adverb\n",
       "4     al      other  Other (altre)"
      ]
     },
     "execution_count": 16,
     "metadata": {},
     "output_type": "execute_result"
    }
   ],
   "source": [
    "lexemes = lexeme_df('lexeme_reference.txt')\n",
    "lexemes.head()"
   ]
  },
  {
   "cell_type": "code",
   "execution_count": 17,
   "metadata": {},
   "outputs": [
    {
     "data": {
      "text/plain": [
       "92"
      ]
     },
     "execution_count": 17,
     "metadata": {},
     "output_type": "execute_result"
    }
   ],
   "source": [
    "lexemes['lexeme'].nunique()"
   ]
  },
  {
   "cell_type": "code",
   "execution_count": 18,
   "metadata": {},
   "outputs": [],
   "source": [
    "# one-hot encoding\n",
    "# dummy variables / indicator variables\n",
    "\n",
    "# df.loc[0,\"lexeme_string\"]\n",
    "\n",
    "\"<det><def><nt><sg><nom>\"\n",
    "\n",
    "# det, df, nt, sg, nom + 87 more \n",
    "\n",
    "# word | det | def | nt | sg | nom | ...\n",
    "# das  |  1  | 1   | 1  | 1  |  1  | 0 ...\n",
    "\n",
    "\n",
    "\n",
    "# look for the first <, remove everything to the left\n",
    "# then remove <, >\n",
    "\n",
    "# \n",
    "\n",
    "def extract_right_of_lt(text):\n",
    "    import re\n",
    "    match = re.search(r'<(.*)', text)\n",
    "    return match.group(1) if match else ''\n",
    "\n",
    "\n"
   ]
  },
  {
   "cell_type": "code",
   "execution_count": 19,
   "metadata": {},
   "outputs": [
    {
     "data": {
      "text/plain": [
       "0                      n m sg\n",
       "1         sfagasalho n m numb\n",
       "2             vbser pri p3 sg\n",
       "3               prn pos mf sp\n",
       "4             vbser pri p1 sg\n",
       "                 ...         \n",
       "128795                 n f sg\n",
       "128796                n mf sg\n",
       "128797               adj m sg\n",
       "128798                 n m sg\n",
       "128799       det def f sg nom\n",
       "Name: lexeme_string, Length: 128800, dtype: object"
      ]
     },
     "execution_count": 19,
     "metadata": {},
     "output_type": "execute_result"
    }
   ],
   "source": [
    "df['lexeme_string'] = df['lexeme_string'].apply(extract_right_of_lt)\n",
    "df['lexeme_string'] = df['lexeme_string'].str.replace(\"<\",\" \")\n",
    "df['lexeme_string'] = df['lexeme_string'].str.replace(\">\",\"\")\n",
    "df['lexeme_string'] = df['lexeme_string'].str.replace(\"*\",\"\")\n",
    "df['lexeme_string'] = df['lexeme_string'].str.replace(\"/\",\"\")\n",
    "df['lexeme_string']"
   ]
  },
  {
   "cell_type": "code",
   "execution_count": 31,
   "metadata": {},
   "outputs": [
    {
     "name": "stderr",
     "output_type": "stream",
     "text": [
      "/Users/arad/mambaforge/envs/sr/lib/python3.11/site-packages/sklearn/feature_extraction/text.py:525: UserWarning: The parameter 'token_pattern' will not be used since 'tokenizer' is not None'\n",
      "  warnings.warn(\n"
     ]
    }
   ],
   "source": [
    "from sklearn.feature_extraction.text import CountVectorizer\n",
    "\n",
    "vectorizer = CountVectorizer(tokenizer=lambda x: x.split(), binary=True)\n",
    "vectorized_words = vectorizer.fit_transform(df['lexeme_string'])\n",
    "vectorized_df = pd.DataFrame(vectorized_words.toarray(), columns=vectorizer.get_feature_names_out(), index=df.index)"
   ]
  },
  {
   "cell_type": "code",
   "execution_count": 33,
   "metadata": {},
   "outputs": [
    {
     "data": {
      "text/html": [
       "<div>\n",
       "<style scoped>\n",
       "    .dataframe tbody tr th:only-of-type {\n",
       "        vertical-align: middle;\n",
       "    }\n",
       "\n",
       "    .dataframe tbody tr th {\n",
       "        vertical-align: top;\n",
       "    }\n",
       "\n",
       "    .dataframe thead th {\n",
       "        text-align: right;\n",
       "    }\n",
       "</style>\n",
       "<table border=\"1\" class=\"dataframe\">\n",
       "  <thead>\n",
       "    <tr style=\"text-align: right;\">\n",
       "      <th></th>\n",
       "      <th>@adv:a_peu_pres</th>\n",
       "      <th>@adv:a_posteriori</th>\n",
       "      <th>@adv:au_dela</th>\n",
       "      <th>@adv:au_moins</th>\n",
       "      <th>@adv:en_fait</th>\n",
       "      <th>@adv:en_general</th>\n",
       "      <th>@adv:peut_etre</th>\n",
       "      <th>@adv:por_favor</th>\n",
       "      <th>@adv:por_supuesto</th>\n",
       "      <th>@adv:s_il_te_plait</th>\n",
       "      <th>...</th>\n",
       "      <th>sup</th>\n",
       "      <th>sw</th>\n",
       "      <th>tn</th>\n",
       "      <th>vaux</th>\n",
       "      <th>vbdo</th>\n",
       "      <th>vbhaver</th>\n",
       "      <th>vblex</th>\n",
       "      <th>vblex+ort</th>\n",
       "      <th>vbmod</th>\n",
       "      <th>vbser</th>\n",
       "    </tr>\n",
       "  </thead>\n",
       "  <tbody>\n",
       "    <tr>\n",
       "      <th>0</th>\n",
       "      <td>0</td>\n",
       "      <td>0</td>\n",
       "      <td>0</td>\n",
       "      <td>0</td>\n",
       "      <td>0</td>\n",
       "      <td>0</td>\n",
       "      <td>0</td>\n",
       "      <td>0</td>\n",
       "      <td>0</td>\n",
       "      <td>0</td>\n",
       "      <td>...</td>\n",
       "      <td>0</td>\n",
       "      <td>0</td>\n",
       "      <td>0</td>\n",
       "      <td>0</td>\n",
       "      <td>0</td>\n",
       "      <td>0</td>\n",
       "      <td>0</td>\n",
       "      <td>0</td>\n",
       "      <td>0</td>\n",
       "      <td>0</td>\n",
       "    </tr>\n",
       "    <tr>\n",
       "      <th>1</th>\n",
       "      <td>0</td>\n",
       "      <td>0</td>\n",
       "      <td>0</td>\n",
       "      <td>0</td>\n",
       "      <td>0</td>\n",
       "      <td>0</td>\n",
       "      <td>0</td>\n",
       "      <td>0</td>\n",
       "      <td>0</td>\n",
       "      <td>0</td>\n",
       "      <td>...</td>\n",
       "      <td>0</td>\n",
       "      <td>0</td>\n",
       "      <td>0</td>\n",
       "      <td>0</td>\n",
       "      <td>0</td>\n",
       "      <td>0</td>\n",
       "      <td>0</td>\n",
       "      <td>0</td>\n",
       "      <td>0</td>\n",
       "      <td>0</td>\n",
       "    </tr>\n",
       "    <tr>\n",
       "      <th>2</th>\n",
       "      <td>0</td>\n",
       "      <td>0</td>\n",
       "      <td>0</td>\n",
       "      <td>0</td>\n",
       "      <td>0</td>\n",
       "      <td>0</td>\n",
       "      <td>0</td>\n",
       "      <td>0</td>\n",
       "      <td>0</td>\n",
       "      <td>0</td>\n",
       "      <td>...</td>\n",
       "      <td>0</td>\n",
       "      <td>0</td>\n",
       "      <td>0</td>\n",
       "      <td>0</td>\n",
       "      <td>0</td>\n",
       "      <td>0</td>\n",
       "      <td>0</td>\n",
       "      <td>0</td>\n",
       "      <td>0</td>\n",
       "      <td>1</td>\n",
       "    </tr>\n",
       "    <tr>\n",
       "      <th>3</th>\n",
       "      <td>0</td>\n",
       "      <td>0</td>\n",
       "      <td>0</td>\n",
       "      <td>0</td>\n",
       "      <td>0</td>\n",
       "      <td>0</td>\n",
       "      <td>0</td>\n",
       "      <td>0</td>\n",
       "      <td>0</td>\n",
       "      <td>0</td>\n",
       "      <td>...</td>\n",
       "      <td>0</td>\n",
       "      <td>0</td>\n",
       "      <td>0</td>\n",
       "      <td>0</td>\n",
       "      <td>0</td>\n",
       "      <td>0</td>\n",
       "      <td>0</td>\n",
       "      <td>0</td>\n",
       "      <td>0</td>\n",
       "      <td>0</td>\n",
       "    </tr>\n",
       "    <tr>\n",
       "      <th>4</th>\n",
       "      <td>0</td>\n",
       "      <td>0</td>\n",
       "      <td>0</td>\n",
       "      <td>0</td>\n",
       "      <td>0</td>\n",
       "      <td>0</td>\n",
       "      <td>0</td>\n",
       "      <td>0</td>\n",
       "      <td>0</td>\n",
       "      <td>0</td>\n",
       "      <td>...</td>\n",
       "      <td>0</td>\n",
       "      <td>0</td>\n",
       "      <td>0</td>\n",
       "      <td>0</td>\n",
       "      <td>0</td>\n",
       "      <td>0</td>\n",
       "      <td>0</td>\n",
       "      <td>0</td>\n",
       "      <td>0</td>\n",
       "      <td>1</td>\n",
       "    </tr>\n",
       "  </tbody>\n",
       "</table>\n",
       "<p>5 rows × 1515 columns</p>\n",
       "</div>"
      ],
      "text/plain": [
       "   @adv:a_peu_pres  @adv:a_posteriori  @adv:au_dela  @adv:au_moins  \\\n",
       "0                0                  0             0              0   \n",
       "1                0                  0             0              0   \n",
       "2                0                  0             0              0   \n",
       "3                0                  0             0              0   \n",
       "4                0                  0             0              0   \n",
       "\n",
       "   @adv:en_fait  @adv:en_general  @adv:peut_etre  @adv:por_favor  \\\n",
       "0             0                0               0               0   \n",
       "1             0                0               0               0   \n",
       "2             0                0               0               0   \n",
       "3             0                0               0               0   \n",
       "4             0                0               0               0   \n",
       "\n",
       "   @adv:por_supuesto  @adv:s_il_te_plait  ...  sup  sw  tn  vaux  vbdo  \\\n",
       "0                  0                   0  ...    0   0   0     0     0   \n",
       "1                  0                   0  ...    0   0   0     0     0   \n",
       "2                  0                   0  ...    0   0   0     0     0   \n",
       "3                  0                   0  ...    0   0   0     0     0   \n",
       "4                  0                   0  ...    0   0   0     0     0   \n",
       "\n",
       "   vbhaver  vblex  vblex+ort  vbmod  vbser  \n",
       "0        0      0          0      0      0  \n",
       "1        0      0          0      0      0  \n",
       "2        0      0          0      0      1  \n",
       "3        0      0          0      0      0  \n",
       "4        0      0          0      0      1  \n",
       "\n",
       "[5 rows x 1515 columns]"
      ]
     },
     "execution_count": 33,
     "metadata": {},
     "output_type": "execute_result"
    }
   ],
   "source": [
    "# no longer optimizing this for now,\n",
    "# i want to talk about specifying the model\n",
    "# we'll return to this\n",
    "\n",
    "vectorized_df.head()"
   ]
  },
  {
   "cell_type": "code",
   "execution_count": 69,
   "metadata": {},
   "outputs": [
    {
     "data": {
      "text/plain": [
       "@adv:a_peu_pres        1\n",
       "sfentendre             1\n",
       "sfposizione            1\n",
       "sfentrar               1\n",
       "sfposition             1\n",
       "                   ...  \n",
       "vblex              22451\n",
       "pl                 22609\n",
       "m                  23744\n",
       "n                  54932\n",
       "sg                 75750\n",
       "Length: 1515, dtype: int64"
      ]
     },
     "execution_count": 69,
     "metadata": {},
     "output_type": "execute_result"
    }
   ],
   "source": [
    "vectorized_df.sum().sort_values()"
   ]
  },
  {
   "cell_type": "code",
   "execution_count": 39,
   "metadata": {},
   "outputs": [
    {
     "data": {
      "image/png": "[encoded data removed]",
      "text/plain": [
       "<Figure size 640x480 with 1 Axes>"
      ]
     },
     "metadata": {},
     "output_type": "display_data"
    }
   ],
   "source": [
    "# curious about most common parts of speech.\n",
    "# how different parts of speech correspond to rate of correct responses\n",
    "\n",
    "#\n",
    "vectorized_df.sum().sort_values(ascending=False)[0:20].plot(kind = \"bar\",title=\"most common parts of speech\")\n",
    "plt.show()\n"
   ]
  },
  {
   "cell_type": "code",
   "execution_count": 40,
   "metadata": {},
   "outputs": [
    {
     "data": {
      "text/plain": [
       "(128800, 1527)"
      ]
     },
     "execution_count": 40,
     "metadata": {},
     "output_type": "execute_result"
    }
   ],
   "source": [
    "# p_recall \n",
    "\n",
    "df = pd.concat([df,vectorized_df],axis=1)\n",
    "df.shape"
   ]
  },
  {
   "cell_type": "code",
   "execution_count": 42,
   "metadata": {},
   "outputs": [],
   "source": [
    "df.drop(columns = ['lexeme_string'],inplace=True)"
   ]
  },
  {
   "cell_type": "code",
   "execution_count": 66,
   "metadata": {},
   "outputs": [],
   "source": [
    "grp_by_columns = list(df.columns[~df.columns.isin(['p_recall','delta','user_id','timestamp',\"history_seen\", \"history_correct\", \"session_seen\",  \"session_correct\"])])\n",
    "\n",
    "\"\"\"\n",
    "select avg(p_recall)\n",
    "from df\n",
    "group by var1\n",
    "\n",
    "select avg(p_recall)\n",
    "from df\n",
    "group by var2\n",
    "\n",
    "...\n",
    "\n",
    "select avg(p_recall)\n",
    "from df\n",
    "group by varn\n",
    "\n",
    "\"\"\"\n",
    "\n",
    "\"\"\"\n",
    "\n",
    "select avg(p_recall)\n",
    "from df\n",
    "group by var1, ..., varn\n",
    "\n",
    "\"\"\"\n",
    "\n",
    "# 1515 binary vectors (one for each part of speech)\n",
    "\n",
    "# 0 avg(p_recall)\n",
    "# 1 avg(p_recall)\n",
    "\n",
    "# df.drop(columns = grp_by_columns).mean(axis=1)\n",
    "\n",
    "\n",
    "\n",
    "# df[grp_by_columns].mean(axis = 1)\n",
    "\n",
    "list_of_recall_variation_by_column = []\n",
    "\n",
    "for col in grp_by_columns:\n",
    "\n",
    "    variation_of_means = df.groupby(col)['p_recall'].mean().std()\n",
    "\n",
    "    variation_dict = {\"column_name\":col,\n",
    "                      \"variation_of_means\":variation_of_means}\n",
    "\n",
    "    list_of_recall_variation_by_column.append(variation_dict)\n",
    "\n",
    "recall_variation_by_column = pd.DataFrame(list_of_recall_variation_by_column)\n",
    "    \n",
    "# col_name, std of group means"
   ]
  },
  {
   "cell_type": "code",
   "execution_count": 82,
   "metadata": {},
   "outputs": [],
   "source": [
    "# should start with a really simple feature vector\n",
    "# (history_seen, history_correct)\n",
    "\n",
    "simple_df = df[['p_recall','history_seen','history_correct']]\n",
    "\n",
    "\n",
    "# input_dim = 2"
   ]
  },
  {
   "cell_type": "code",
   "execution_count": 23,
   "metadata": {},
   "outputs": [],
   "source": [
    "# h_hat = 2**(theta*x)\n",
    "\n",
    "# theta = [1,3]\n",
    "# x = [10,5]\n",
    "\n",
    "# 10 + 15 = 25\n",
    "\n",
    "# h_hat = 2**25\n",
    "# predicted_p_recall = 2**(-1*(2/(2**25))) = 1\n",
    "\n",
    "# we need an error function to quantify how wrong we are\n",
    "\n",
    "# (p_recall - predicted_p_recall)**2 <- error\n",
    "# predicted_p_recall = 2**(-1*(delta/predicted_half_life))\n",
    "# predicted_half_life = 2**(theta*x)\n",
    "\n",
    "\n",
    "# given\n",
    "# p_recall is given\n",
    "# delta is given\n",
    "# x is given\n",
    "\n",
    "# we don't have theta\n",
    "\n",
    "# we are going initialize theta with some random numbers\n",
    "# so then we have theta\n",
    "\n",
    "# once we have theta we can calculate the error\n",
    "# and start learning\n",
    "\n",
    "# to-do\n",
    "\n",
    "# write formulas for predicted half_life and predicted p_recall\n",
    "# write formula for loss function\n",
    "# and import an optimizer \n",
    "# run the optimizer on the loss function + our data"
   ]
  },
  {
   "cell_type": "code",
   "execution_count": 24,
   "metadata": {},
   "outputs": [],
   "source": [
    "# going to use pytorch\n",
    "# we are using custom loss function and our model is not one of the standard ML models, like linear regression "
   ]
  },
  {
   "cell_type": "code",
   "execution_count": 70,
   "metadata": {},
   "outputs": [],
   "source": [
    "import torch\n",
    "import torch.nn as nn\n",
    "import torch.optim as optim"
   ]
  },
  {
   "cell_type": "code",
   "execution_count": 71,
   "metadata": {},
   "outputs": [
    {
     "name": "stdout",
     "output_type": "stream",
     "text": [
      "Linear(in_features=2, out_features=1, bias=False)\n"
     ]
    }
   ],
   "source": [
    "# create a fresh instance of SpacedRepetition model\n",
    "# what happens \n",
    "# mymodel = SpacedRepetition(2)\n",
    "# under the hood\n",
    "# theta = [theta1,theta2]\n",
    "\n",
    "test_theta = nn.Linear(2,1,bias=False)\n",
    "print(test_theta)\n",
    "\n"
   ]
  },
  {
   "cell_type": "code",
   "execution_count": 72,
   "metadata": {},
   "outputs": [],
   "source": [
    "class SpacedRepetition(nn.Module):\n",
    "    \n",
    "    def __init__(self, input_dim):\n",
    "\n",
    "        super(SpacedRepetition, self).__init__()\n",
    "        self.theta = nn.Linear(input_dim, 1, bias=False)\n",
    "\n",
    "    def forward(self, x):\n",
    "        # estimating h_hat = 2^(theta . x)\n",
    "        theta_x = self.theta(x)  # dot product of theta and x\n",
    "        h_hat = torch.pow(2, theta_x)\n",
    "        return h_hat\n",
    "\n",
    "def spaced_repitition_loss(p, p_hat, h, h_hat, theta, alpha, lambda_reg):\n",
    "    loss_p = torch.mean((p_hat - p) ** 2)\n",
    "    loss_h = torch.mean((h_hat - h) ** 2)\n",
    "    reg_term = lambda_reg * torch.sum(theta ** 2)\n",
    "    total_loss = loss_p + alpha * loss_h + reg_term\n",
    "    return total_loss"
   ]
  },
  {
   "cell_type": "code",
   "execution_count": 27,
   "metadata": {},
   "outputs": [],
   "source": [
    "# object oriented programming\n",
    "\n",
    "# python is a very flexible programming language\n",
    "\n",
    "# one thing it lets you do is define things called Classes\n",
    "\n",
    "# suppose you are a game developer\n",
    "# designing a world for your game\n",
    "# and your world has trees\n",
    "# you write a tree class\n",
    "# tree class defines what attributes trees can have\n",
    "# tree: height, color, bears_fruit, number of leaves, ...\n",
    "\n",
    "# tree_A = tree(height = 100, color = green, bears_fruit = false, number of leaves = 1800)\n",
    "\n",
    "# tree class exists\n",
    "# new class called MagicTrees\n",
    "\n",
    "# class MagicTree(Tree):\n",
    "# super(MagicTree, self).__init__()\n",
    "\n",
    "# MagicTree is called a sub-class of Tree\n",
    "# Tree is a superclass of MagicTree\n",
    "\n",
    "# linear regression is implemented as a class\n",
    "# result = smf.ols(\"y ~ x\",data=df)\n",
    "# result.summary\n",
    "# result.params\n",
    "# ....\n",
    "\n",
    "# class SpacedRepetition(nn.Module)\n",
    "# super(SpacedRepetition, self).__init__()\n",
    "\n",
    "# inheritance\n",
    "\n",
    "\n",
    "# __init__(self, input_dim) \"dunder method\" \"double underscore method\"\n"
   ]
  },
  {
   "cell_type": "code",
   "execution_count": 73,
   "metadata": {},
   "outputs": [],
   "source": [
    "mymodel = SpacedRepetition(2)"
   ]
  },
  {
   "cell_type": "code",
   "execution_count": 87,
   "metadata": {},
   "outputs": [
    {
     "data": {
      "text/plain": [
       "0.3174341209232807"
      ]
     },
     "execution_count": 87,
     "metadata": {},
     "output_type": "execute_result"
    }
   ],
   "source": [
    "np.dot(mymodel.theta.weight[0].detach().numpy(),simple_df[['history_seen','history_correct']].iloc[0,:])"
   ]
  },
  {
   "cell_type": "code",
   "execution_count": null,
   "metadata": {},
   "outputs": [],
   "source": [
    "# .317\n",
    "\n",
    "# 2**(.317)\n",
    "# predicted_half_life = 1.24\n",
    "# predicted_p_recall = 2**(-1*(83/1.24)) = 0\n",
    "# real p_recall = 1\n",
    "\n",
    "# (real p_recall - predicted p recall)**2 = 1\n",
    "\n",
    "# after optimization\n",
    "# hopefully we have thetas that produce a predicted p recall that is closer to the truth\n",
    "\n",
    "# forward pass\n",
    "\n",
    "# 128,000 records\n",
    "# each has history_seen, history_correct\n",
    "# x_i = [history_seen, history_correct] for i in range(128000)\n",
    "# y_i = p recall for ith person\n",
    "# using theta and x_i we take a dot product theta*x_i = z_i\n",
    "# predicted_hat_i = 2**(z_i)\n",
    "# delta is the last time (in days) that they saw the word\n",
    "# predicted_p_recall_i = 2**(-1*(delta/predicted_hat_i))\n",
    "# predicted_p_recall_i is our \"final output\"\n",
    "# now we do it for i = 1, ..., i = 128,000\n",
    "# measure how wrong we are\n",
    "# (p_recall_i - predicted_p_recall_i)**2 <- there's more to the error function but this what makes it go\n",
    "# add it up for i = 1 , ..., i = 128,000\n",
    "# ???????? optimization\n",
    "# we have a new theta - new theta will hopefully yield smaller error\n",
    "# rinse and repeat until error stops going down.\n",
    "# then you have your model.\n",
    "\n"
   ]
  },
  {
   "cell_type": "code",
   "execution_count": 83,
   "metadata": {},
   "outputs": [
    {
     "data": {
      "text/plain": [
       "history_seen       4\n",
       "history_correct    3\n",
       "Name: 0, dtype: int64"
      ]
     },
     "execution_count": 83,
     "metadata": {},
     "output_type": "execute_result"
    }
   ],
   "source": [
    "# half_life = 2**(theta*x)\n",
    "#\n",
    "simple_df[['history_seen','history_correct']].iloc[0,:]"
   ]
  },
  {
   "cell_type": "code",
   "execution_count": 92,
   "metadata": {},
   "outputs": [
    {
     "data": {
      "text/plain": [
       "83.78958333333334"
      ]
     },
     "execution_count": 92,
     "metadata": {},
     "output_type": "execute_result"
    }
   ],
   "source": [
    "df.loc[0,\"delta\"]/60/60/24\n",
    "# df.columns.to_list()[0:10]"
   ]
  },
  {
   "cell_type": "code",
   "execution_count": 94,
   "metadata": {},
   "outputs": [
    {
     "data": {
      "text/plain": [
       "1.0"
      ]
     },
     "execution_count": 94,
     "metadata": {},
     "output_type": "execute_result"
    }
   ],
   "source": [
    "df.loc[0,'p_recall']"
   ]
  },
  {
   "cell_type": "code",
   "execution_count": null,
   "metadata": {},
   "outputs": [],
   "source": []
  }
 ],
 "metadata": {
  "kernelspec": {
   "display_name": "sr",
   "language": "python",
   "name": "python3"
  },
  "language_info": {
   "codemirror_mode": {
    "name": "ipython",
    "version": 3
   },
   "file_extension": ".py",
   "mimetype": "text/x-python",
   "name": "python",
   "nbconvert_exporter": "python",
   "pygments_lexer": "ipython3",
   "version": "3.11.9"
  }
 },
 "nbformat": 4,
 "nbformat_minor": 4
}
