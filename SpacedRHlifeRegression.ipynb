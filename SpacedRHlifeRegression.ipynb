{
 "cells": [
  {
   "cell_type": "code",
   "execution_count": 551,
   "metadata": {},
   "outputs": [],
   "source": [
    "import pandas as pd\n",
    "import matplotlib.pyplot as plt\n",
    "import seaborn as sns\n",
    "from scipy.stats import boxcox\n",
    "import torch\n",
    "import torch.nn as nn\n",
    "from sklearn.model_selection import train_test_split\n",
    "from torch.utils.data import Dataset, DataLoader\n",
    "import torch.optim as optim\n",
    "from sklearn.preprocessing import MinMaxScaler\n",
    "import numpy as np\n",
    "from sklearn.linear_model import LinearRegression\n",
    "from sklearn.metrics import mean_squared_error, r2_score"
   ]
  },
  {
   "cell_type": "code",
   "execution_count": 552,
   "metadata": {},
   "outputs": [
    {
     "data": {
      "text/plain": [
       "' \\nthe spaced repetition half-liferegression is based on two formulas : \\np_recall = 2 ** (-d / h)\\nh = 2 ** (theta * x)U\\nthe objective of this regression is to determine theta\\nwe will utilise two python ml linear regression libraries: sklearn and pytorch\\nwe will use data from the duolingo dataset, which consists of 13 million records \\n'"
      ]
     },
     "execution_count": 552,
     "metadata": {},
     "output_type": "execute_result"
    }
   ],
   "source": [
    "\"\"\" \n",
    "the spaced repetition half-liferegression is based on two formulas : \n",
    "p_recall = 2 ** (-d / h)\n",
    "h = 2 ** (theta * x)U\n",
    "the objective of this regression is to determine theta\n",
    "we will utilise two python ml linear regression libraries: sklearn and pytorch\n",
    "we will use data from the duolingo dataset, which consists of 13 million records \n",
    "\"\"\""
   ]
  },
  {
   "cell_type": "markdown",
   "metadata": {},
   "source": [
    "# Utils"
   ]
  },
  {
   "cell_type": "code",
   "execution_count": 553,
   "metadata": {},
   "outputs": [],
   "source": [
    "def h_truth_calculator (delta, p_recall):\n",
    "    h_truth = - delta / np.log2(p_recall)\n",
    "    return h_truth\n",
    "\n",
    "def p_pred_calculator (delta, h):\n",
    "  p_pred = torch.tensor(2.0).pow (- delta/ h)\n",
    "  epsilon = torch.tensor(1e-5)\n",
    "  p_pred = torch.clamp(p_pred, min = epsilon, max = 1 - epsilon)\n",
    "  return p_pred\n",
    "def p_WMSEloss (y_true, y_pred):\n",
    "  weight = torch.where(y_true < 0.9, torch.tensor(4.0), torch.tensor(1.0))\n",
    "  loss = weight * (y_true - y_pred) **2\n",
    "  return torch.mean(loss)\n",
    "def h_WMSEloss (y_true, y_pred):\n",
    "  \n",
    "  loss = (y_true - y_pred) **2\n",
    "  return torch.mean(loss)\n"
   ]
  },
  {
   "cell_type": "markdown",
   "metadata": {},
   "source": [
    "# Data Preprocessing"
   ]
  },
  {
   "cell_type": "markdown",
   "metadata": {},
   "source": [
    "## upload data"
   ]
  },
  {
   "cell_type": "code",
   "execution_count": 554,
   "metadata": {},
   "outputs": [],
   "source": [
    "r = 0\n",
    "df = pd.read_csv(\"/Users/nasser/Downloads/learning_traces.13m.csv\", skiprows = lambda i : i > 0 and np.random.randint(100) > r )\n"
   ]
  },
  {
   "cell_type": "code",
   "execution_count": 555,
   "metadata": {},
   "outputs": [],
   "source": [
    "# half-life = X (features) * theta (weights)  \n",
    "# we will use history_seen and history_correct as features\n",
    "# we will use deltta and p recall to estimate half-life truth using the formula, h = -delta / log2 (p_recall)"
   ]
  },
  {
   "cell_type": "code",
   "execution_count": 556,
   "metadata": {},
   "outputs": [],
   "source": [
    "df['delta'] = df['delta']/ (24 * 60 * 60) # delta units converted to days\n",
    "epsilon = 1e-5\n",
    "df['p_recall']= np.clip(df['p_recall'] ,epsilon, 1 - epsilon ) # a small constant added or subtracted to p recall for stability\n",
    "df['h'] = df.apply(lambda row : h_truth_calculator(row['delta'], row['p_recall']), axis = 1) "
   ]
  },
  {
   "cell_type": "code",
   "execution_count": 557,
   "metadata": {},
   "outputs": [
    {
     "data": {
      "text/html": [
       "<div>\n",
       "<style scoped>\n",
       "    .dataframe tbody tr th:only-of-type {\n",
       "        vertical-align: middle;\n",
       "    }\n",
       "\n",
       "    .dataframe tbody tr th {\n",
       "        vertical-align: top;\n",
       "    }\n",
       "\n",
       "    .dataframe thead th {\n",
       "        text-align: right;\n",
       "    }\n",
       "</style>\n",
       "<table border=\"1\" class=\"dataframe\">\n",
       "  <thead>\n",
       "    <tr style=\"text-align: right;\">\n",
       "      <th></th>\n",
       "      <th>history_seen</th>\n",
       "      <th>history_correct</th>\n",
       "      <th>delta</th>\n",
       "      <th>h</th>\n",
       "      <th>p_recall</th>\n",
       "    </tr>\n",
       "  </thead>\n",
       "  <tbody>\n",
       "    <tr>\n",
       "      <th>count</th>\n",
       "      <td>128845.000000</td>\n",
       "      <td>128845.000000</td>\n",
       "      <td>128845.000000</td>\n",
       "      <td>1.288450e+05</td>\n",
       "      <td>128845.000000</td>\n",
       "    </tr>\n",
       "    <tr>\n",
       "      <th>mean</th>\n",
       "      <td>22.954643</td>\n",
       "      <td>20.226016</td>\n",
       "      <td>8.503660</td>\n",
       "      <td>4.717530e+05</td>\n",
       "      <td>0.896512</td>\n",
       "    </tr>\n",
       "    <tr>\n",
       "      <th>std</th>\n",
       "      <td>165.503703</td>\n",
       "      <td>147.957238</td>\n",
       "      <td>26.140038</td>\n",
       "      <td>1.601195e+06</td>\n",
       "      <td>0.270684</td>\n",
       "    </tr>\n",
       "    <tr>\n",
       "      <th>min</th>\n",
       "      <td>1.000000</td>\n",
       "      <td>1.000000</td>\n",
       "      <td>0.000012</td>\n",
       "      <td>6.968287e-07</td>\n",
       "      <td>0.000010</td>\n",
       "    </tr>\n",
       "    <tr>\n",
       "      <th>25%</th>\n",
       "      <td>3.000000</td>\n",
       "      <td>3.000000</td>\n",
       "      <td>0.006123</td>\n",
       "      <td>1.797039e+02</td>\n",
       "      <td>0.999990</td>\n",
       "    </tr>\n",
       "    <tr>\n",
       "      <th>50%</th>\n",
       "      <td>6.000000</td>\n",
       "      <td>6.000000</td>\n",
       "      <td>0.892616</td>\n",
       "      <td>3.746506e+03</td>\n",
       "      <td>0.999990</td>\n",
       "    </tr>\n",
       "    <tr>\n",
       "      <th>75%</th>\n",
       "      <td>15.000000</td>\n",
       "      <td>13.000000</td>\n",
       "      <td>5.195926</td>\n",
       "      <td>2.517796e+05</td>\n",
       "      <td>0.999990</td>\n",
       "    </tr>\n",
       "    <tr>\n",
       "      <th>max</th>\n",
       "      <td>13483.000000</td>\n",
       "      <td>12855.000000</td>\n",
       "      <td>460.165567</td>\n",
       "      <td>3.189609e+07</td>\n",
       "      <td>0.999990</td>\n",
       "    </tr>\n",
       "  </tbody>\n",
       "</table>\n",
       "</div>"
      ],
      "text/plain": [
       "        history_seen  history_correct          delta             h  \\\n",
       "count  128845.000000    128845.000000  128845.000000  1.288450e+05   \n",
       "mean       22.954643        20.226016       8.503660  4.717530e+05   \n",
       "std       165.503703       147.957238      26.140038  1.601195e+06   \n",
       "min         1.000000         1.000000       0.000012  6.968287e-07   \n",
       "25%         3.000000         3.000000       0.006123  1.797039e+02   \n",
       "50%         6.000000         6.000000       0.892616  3.746506e+03   \n",
       "75%        15.000000        13.000000       5.195926  2.517796e+05   \n",
       "max     13483.000000     12855.000000     460.165567  3.189609e+07   \n",
       "\n",
       "            p_recall  \n",
       "count  128845.000000  \n",
       "mean        0.896512  \n",
       "std         0.270684  \n",
       "min         0.000010  \n",
       "25%         0.999990  \n",
       "50%         0.999990  \n",
       "75%         0.999990  \n",
       "max         0.999990  "
      ]
     },
     "execution_count": 557,
     "metadata": {},
     "output_type": "execute_result"
    }
   ],
   "source": [
    "df = df[['history_seen', 'history_correct', 'delta', 'h', 'p_recall']]\n",
    "df.describe()"
   ]
  },
  {
   "cell_type": "code",
   "execution_count": 558,
   "metadata": {},
   "outputs": [
    {
     "data": {
      "text/html": [
       "<div>\n",
       "<style scoped>\n",
       "    .dataframe tbody tr th:only-of-type {\n",
       "        vertical-align: middle;\n",
       "    }\n",
       "\n",
       "    .dataframe tbody tr th {\n",
       "        vertical-align: top;\n",
       "    }\n",
       "\n",
       "    .dataframe thead th {\n",
       "        text-align: right;\n",
       "    }\n",
       "</style>\n",
       "<table border=\"1\" class=\"dataframe\">\n",
       "  <thead>\n",
       "    <tr style=\"text-align: right;\">\n",
       "      <th></th>\n",
       "      <th>history_seen</th>\n",
       "      <th>history_correct</th>\n",
       "      <th>delta</th>\n",
       "      <th>h</th>\n",
       "      <th>p_recall</th>\n",
       "    </tr>\n",
       "  </thead>\n",
       "  <tbody>\n",
       "    <tr>\n",
       "      <th>count</th>\n",
       "      <td>32006.000000</td>\n",
       "      <td>32006.000000</td>\n",
       "      <td>32006.000000</td>\n",
       "      <td>32006.000000</td>\n",
       "      <td>32006.000000</td>\n",
       "    </tr>\n",
       "    <tr>\n",
       "      <th>mean</th>\n",
       "      <td>26.573018</td>\n",
       "      <td>23.632444</td>\n",
       "      <td>5.884955</td>\n",
       "      <td>110.679647</td>\n",
       "      <td>0.782782</td>\n",
       "    </tr>\n",
       "    <tr>\n",
       "      <th>std</th>\n",
       "      <td>166.700813</td>\n",
       "      <td>151.205759</td>\n",
       "      <td>21.331034</td>\n",
       "      <td>89.180705</td>\n",
       "      <td>0.346616</td>\n",
       "    </tr>\n",
       "    <tr>\n",
       "      <th>min</th>\n",
       "      <td>1.000000</td>\n",
       "      <td>1.000000</td>\n",
       "      <td>0.000012</td>\n",
       "      <td>0.100116</td>\n",
       "      <td>0.000010</td>\n",
       "    </tr>\n",
       "    <tr>\n",
       "      <th>25%</th>\n",
       "      <td>4.000000</td>\n",
       "      <td>3.000000</td>\n",
       "      <td>0.002118</td>\n",
       "      <td>6.577801</td>\n",
       "      <td>0.666667</td>\n",
       "    </tr>\n",
       "    <tr>\n",
       "      <th>50%</th>\n",
       "      <td>7.000000</td>\n",
       "      <td>7.000000</td>\n",
       "      <td>0.003183</td>\n",
       "      <td>119.535201</td>\n",
       "      <td>0.999990</td>\n",
       "    </tr>\n",
       "    <tr>\n",
       "      <th>75%</th>\n",
       "      <td>17.000000</td>\n",
       "      <td>15.000000</td>\n",
       "      <td>2.654708</td>\n",
       "      <td>185.319674</td>\n",
       "      <td>0.999990</td>\n",
       "    </tr>\n",
       "    <tr>\n",
       "      <th>max</th>\n",
       "      <td>13413.000000</td>\n",
       "      <td>12791.000000</td>\n",
       "      <td>350.510162</td>\n",
       "      <td>273.567137</td>\n",
       "      <td>0.999990</td>\n",
       "    </tr>\n",
       "  </tbody>\n",
       "</table>\n",
       "</div>"
      ],
      "text/plain": [
       "       history_seen  history_correct         delta             h      p_recall\n",
       "count  32006.000000     32006.000000  32006.000000  32006.000000  32006.000000\n",
       "mean      26.573018        23.632444      5.884955    110.679647      0.782782\n",
       "std      166.700813       151.205759     21.331034     89.180705      0.346616\n",
       "min        1.000000         1.000000      0.000012      0.100116      0.000010\n",
       "25%        4.000000         3.000000      0.002118      6.577801      0.666667\n",
       "50%        7.000000         7.000000      0.003183    119.535201      0.999990\n",
       "75%       17.000000        15.000000      2.654708    185.319674      0.999990\n",
       "max    13413.000000     12791.000000    350.510162    273.567137      0.999990"
      ]
     },
     "execution_count": 558,
     "metadata": {},
     "output_type": "execute_result"
    }
   ],
   "source": [
    "\n",
    "min_hlife = 0.1 # apx 15 minutes\n",
    "max_hlife = 274. # 9 months\n",
    "\n",
    "df= df[df['h']< max_hlife] # maximum h \n",
    "df = df[df['h']> min_hlife] # minimum h \n",
    "df.describe()"
   ]
  },
  {
   "cell_type": "markdown",
   "metadata": {},
   "source": [
    "## feature engineering"
   ]
  },
  {
   "cell_type": "code",
   "execution_count": 559,
   "metadata": {},
   "outputs": [],
   "source": [
    "scaled = boxcox (df.values, lmbda = 0.1)\n",
    "scaled_df = pd.DataFrame(scaled, columns = df.columns)\n",
    "normalised = MinMaxScaler().fit_transform(df)\n",
    "normalised_df = pd.DataFrame(normalised, columns = df.columns)"
   ]
  },
  {
   "cell_type": "markdown",
   "metadata": {},
   "source": [
    "# regression with Sklearn\n"
   ]
  },
  {
   "cell_type": "code",
   "execution_count": 560,
   "metadata": {},
   "outputs": [],
   "source": [
    "X_train, X_test, y_train, y_test = train_test_split(df[['history_seen', 'history_correct']], df['h'], test_size =0.2, random_state = 30)\n",
    "X_train_log, X_test_log, y_train_log, y_test_log = train_test_split(scaled_df[['history_seen', 'history_correct']], scaled_df['h'], test_size =0.2, random_state = 30)\n",
    "X_train_n, X_test_n, y_train_n, y_test_n = train_test_split(normalised_df[['history_seen', 'history_correct']], normalised_df['h'], test_size =0.2, random_state = 30)\n"
   ]
  },
  {
   "cell_type": "code",
   "execution_count": 561,
   "metadata": {},
   "outputs": [],
   "source": [
    "model = LinearRegression()\n",
    "model.fit(X_train, y_train)\n",
    "y_pred= model.predict(X_test)\n",
    "\n",
    "model_n = LinearRegression()\n",
    "model_n.fit(X_train_n, y_train_n)\n",
    "y_pred_n= model_n.predict(X_test_n)\n",
    "\n",
    "model_l = LinearRegression()\n",
    "model_l.fit(X_train_log, y_train_log)\n",
    "y_pred_l= model_l.predict(X_test_log)"
   ]
  },
  {
   "cell_type": "code",
   "execution_count": 562,
   "metadata": {},
   "outputs": [
    {
     "data": {
      "image/png": "[encoded data removed]",
      "text/plain": [
       "<Figure size 1200x400 with 3 Axes>"
      ]
     },
     "metadata": {},
     "output_type": "display_data"
    }
   ],
   "source": [
    "plt.figsize= (5,4)\n",
    "fig, axes = plt.subplots(1,3, figsize = (12,4))\n",
    "\n",
    "axes[0].hist(y_pred, color = 'blue', label = 'h_hat' )\n",
    "axes [0].hist(y_test_log, color = 'red', label = 'h_truth' )\n",
    "axes[0].set_title (\" hlife prediction : original dataset\")\n",
    "axes[0].legend()\n",
    "axes[1].hist(y_pred_n, color = 'blue', label = 'h_hat' )\n",
    "axes [1].hist(y_test_n, color = 'red', label = 'h_truth' )\n",
    "axes[1].set_title (\" hlife prediction : normalised\")\n",
    "axes[1].legend()\n",
    "axes[2].hist(y_pred_l, color = 'blue', label = 'h_hat' )\n",
    "axes [2].hist(y_test_log, color = 'red', label = 'h_truth' )\n",
    "axes[2].set_title (\" hlife prediction : log transformed\")\n",
    "axes[2].legend()\n",
    "plt.tight_layout()\n",
    "plt.show()"
   ]
  },
  {
   "cell_type": "markdown",
   "metadata": {},
   "source": [
    "# Regression with Torch"
   ]
  },
  {
   "cell_type": "markdown",
   "metadata": {},
   "source": [
    "## regression model"
   ]
  },
  {
   "cell_type": "code",
   "execution_count": 563,
   "metadata": {},
   "outputs": [],
   "source": [
    "class TwoStagedModel(nn.Module):\n",
    "  def __init__(self,alpha = 0.5, lmbda = 0.001, h_loss = h_WMSEloss, p_loss = p_WMSEloss):\n",
    "    super().__init__()\n",
    "    self.fc1 = nn.Linear(2,8, bias = False)\n",
    "    self.fc2 = nn.Linear(8,1)\n",
    "    self.alpha = alpha\n",
    "    self.lmbda = lmbda\n",
    "    self.hloss = h_loss\n",
    "    self.ploss = p_loss\n",
    "  def forward (self, x):\n",
    "    h_pred = self.fc1 (x)\n",
    "    h_pred = self.fc2(h_pred)\n",
    "    h_pred = torch.clamp(h_pred, min = 0.001)\n",
    "    return h_pred\n",
    "\n",
    "  def p_prediction (self, data, delta, h, p):\n",
    "    h_pred = self.forward(data)\n",
    "    h_pred = h_pred.squeeze()\n",
    "    loss_h = self.hloss(h_pred, h)\n",
    "    p_pred = p_pred_calculator(delta, h_pred)\n",
    "    loss_p = self.ploss(p_pred, p)\n",
    "    regularisation = sum(param.pow(2).sum() for param in self.parameters())\n",
    "    loss_total = loss_p + loss_h * self.alpha  + self.lmbda * regularisation\n",
    "    return loss_total"
   ]
  },
  {
   "cell_type": "markdown",
   "metadata": {},
   "source": [
    "## torch training and test datasets\n"
   ]
  },
  {
   "cell_type": "code",
   "execution_count": 564,
   "metadata": {},
   "outputs": [],
   "source": [
    "class CustomDataset(Dataset):\n",
    "  def __init__(self, delta, data, h, p):\n",
    "    super(). __init__()\n",
    "    self.delta = torch.tensor(delta.values, dtype = torch.float32)\n",
    "    self.data = torch.tensor(data.values, dtype = torch.float32)\n",
    "    self.labels = torch.tensor(h.values, dtype = torch.float32)\n",
    "    self.p = torch.tensor(p.values, dtype = torch.float32)\n",
    "  def __len__(self):\n",
    "    return len(self.data)\n",
    "  def __getitem__(self, idx):\n",
    "    delta = self.delta[idx]\n",
    "    data = self.data[idx]\n",
    "    h = self.labels[idx]\n",
    "    p = self.p[idx]\n",
    "    return delta, data, h,p"
   ]
  },
  {
   "cell_type": "code",
   "execution_count": 565,
   "metadata": {},
   "outputs": [],
   "source": [
    "# original\n",
    "X2_train, X2_test, delta2_train, delta2_test, y2_train, y2_test, p2_train, p2_test = train_test_split(df[['history_seen', 'history_correct']], df['delta'], df['h'], df['p_recall'], test_size =0.2, random_state = 30)\n",
    "# normalised\n",
    "#X2_train, X2_test, delta2_train, delta2_test, y2_train, y2_test, p2_train, p2_test = train_test_split(normalised_df[['history_seen', 'history_correct']], normalised_df['delta'], normalised_df['h'], normalised_df['p_recall'], test_size =0.2, random_state = 30)\n",
    "# scaled\n",
    "#X2_train, X2_test, delta2_train, delta2_test, y2_train, y2_test, p2_train, p2_test = train_test_split(scaled_df[['history_seen', 'history_correct']], scaled_df['delta'], scaled_df['h'], scaled_df['p_recall'], test_size =0.2, random_state = 30)"
   ]
  },
  {
   "cell_type": "code",
   "execution_count": 566,
   "metadata": {},
   "outputs": [],
   "source": [
    "training_data = CustomDataset(delta = delta2_train, data = X2_train, h = y2_train, p = p2_train)\n",
    "dataloader = DataLoader(training_data, batch_size = 1000, shuffle = True)\n",
    "test_data = CustomDataset(delta = delta2_test, data = X2_test, h = y2_test, p = p2_test)\n",
    "test_dataloader = DataLoader(test_data, batch_size = 1000, shuffle = True)"
   ]
  },
  {
   "cell_type": "markdown",
   "metadata": {},
   "source": [
    "## training"
   ]
  },
  {
   "cell_type": "code",
   "execution_count": 567,
   "metadata": {},
   "outputs": [
    {
     "name": "stdout",
     "output_type": "stream",
     "text": [
      "epoch loss avg 1/ 30 : 10091.2344\n",
      "epoch loss avg 2/ 30 : 10095.7203\n",
      "epoch loss avg 3/ 30 : 9945.9432\n",
      "epoch loss avg 4/ 30 : 9844.3524\n",
      "epoch loss avg 5/ 30 : 9876.3653\n",
      "epoch loss avg 6/ 30 : 9792.4423\n",
      "epoch loss avg 7/ 30 : 9753.1631\n",
      "epoch loss avg 8/ 30 : 9704.6553\n",
      "epoch loss avg 9/ 30 : 9680.3367\n",
      "epoch loss avg 10/ 30 : 9650.1236\n",
      "epoch loss avg 11/ 30 : 9618.2032\n",
      "epoch loss avg 12/ 30 : 9688.0637\n",
      "epoch loss avg 13/ 30 : 9602.7907\n",
      "epoch loss avg 14/ 30 : 9555.2209\n",
      "epoch loss avg 15/ 30 : 9539.1335\n",
      "epoch loss avg 16/ 30 : 9515.6771\n",
      "epoch loss avg 17/ 30 : 9465.8555\n",
      "epoch loss avg 18/ 30 : 9427.0022\n",
      "epoch loss avg 19/ 30 : 9395.5401\n",
      "epoch loss avg 20/ 30 : 9400.7303\n",
      "epoch loss avg 21/ 30 : 9348.3762\n",
      "epoch loss avg 22/ 30 : 9332.0858\n",
      "epoch loss avg 23/ 30 : 9298.3784\n",
      "epoch loss avg 24/ 30 : 9249.5307\n",
      "epoch loss avg 25/ 30 : 9260.2511\n",
      "epoch loss avg 26/ 30 : 9224.3811\n",
      "epoch loss avg 27/ 30 : 9192.1096\n",
      "epoch loss avg 28/ 30 : 9190.3089\n",
      "epoch loss avg 29/ 30 : 9149.5851\n",
      "epoch loss avg 30/ 30 : 9111.9713\n"
     ]
    }
   ],
   "source": [
    "model2 = TwoStagedModel()\n",
    "optimizer = optim.Adam(model2.parameters(), lr = 0.01)\n",
    "epoch_size = 30\n",
    "alpha = 0.5\n",
    "lmbda = 0.1\n",
    "\n",
    "\n",
    "model2.train()\n",
    "for epoch in range (epoch_size):\n",
    "  epoch_loss = 0\n",
    "  batch_count = 0\n",
    "\n",
    "\n",
    "\n",
    "  for delta, data, h, p in dataloader:\n",
    "\n",
    "    optimizer.zero_grad()\n",
    "\n",
    "    loss_total = model2.p_prediction(data, delta, h, p)\n",
    "   \n",
    "\n",
    "    loss_total.backward()\n",
    "    optimizer.step()\n",
    "\n",
    "    batch_count += 1\n",
    "    epoch_loss += loss_total.item()\n",
    "  print(f\"epoch loss avg {epoch + 1}/ {epoch_size} : {epoch_loss / batch_count :.4f}\")"
   ]
  },
  {
   "cell_type": "markdown",
   "metadata": {},
   "source": [
    "## evaluation"
   ]
  },
  {
   "cell_type": "code",
   "execution_count": 568,
   "metadata": {},
   "outputs": [],
   "source": [
    "model2. eval()\n",
    "\n",
    "p_pred_list = []\n",
    "p_true_list = []\n",
    "h_pred_list = []\n",
    "h_truth_list = []\n",
    "#for i in range (epoch_size):\n",
    "for delta2, data2, h2, p2 in test_dataloader:\n",
    "  h_pred = model2.forward(data2)\n",
    "  h_pred2 = h_pred.squeeze()\n",
    "  h_pred_list.extend(h_pred2.detach().numpy())\n",
    "  h_truth_list.extend(h2.detach().numpy())\n",
    "  p_pred2 = p_pred_calculator(delta2, h_pred2)\n",
    "  p_pred_list.extend(p_pred2.detach().numpy())\n",
    "  p_true_list.extend(p2.detach().numpy())\n"
   ]
  },
  {
   "cell_type": "code",
   "execution_count": 569,
   "metadata": {},
   "outputs": [
    {
     "data": {
      "text/plain": [
       "0.44383814148916556"
      ]
     },
     "execution_count": 569,
     "metadata": {},
     "output_type": "execute_result"
    }
   ],
   "source": [
    "p_pred_list = np.array(p_pred_list)\n",
    "p_true_list = np.array(p_true_list)\n",
    "rscore2 = r2_score(p_true_list, p_pred_list)\n",
    "rscore2"
   ]
  },
  {
   "cell_type": "code",
   "execution_count": 570,
   "metadata": {},
   "outputs": [
    {
     "data": {
      "image/png": "[encoded data removed]",
      "text/plain": [
       "<Figure size 640x480 with 1 Axes>"
      ]
     },
     "metadata": {},
     "output_type": "display_data"
    }
   ],
   "source": [
    "plt.hist(p_pred_list, color = 'blue',  label = 'p_true', alpha = 0.5)\n",
    "plt.hist(p_true_list, color = 'red',  label = 'p_hut', alpha = 0.5)\n",
    "plt.title ('p recall prediction ')\n",
    "plt.legend()\n",
    "plt.show()"
   ]
  }
 ],
 "metadata": {
  "kernelspec": {
   "display_name": "condanew",
   "language": "python",
   "name": "python3"
  },
  "language_info": {
   "codemirror_mode": {
    "name": "ipython",
    "version": 3
   },
   "file_extension": ".py",
   "mimetype": "text/x-python",
   "name": "python",
   "nbconvert_exporter": "python",
   "pygments_lexer": "ipython3",
   "version": "3.8.19"
  }
 },
 "nbformat": 4,
 "nbformat_minor": 2
}
